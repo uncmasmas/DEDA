{
 "cells": [
  {
   "cell_type": "code",
   "execution_count": 1,
   "metadata": {},
   "outputs": [],
   "source": [
    "import pandas as pd\n",
    "import json\n",
    "import math\n",
    "import os\n",
    "from sklearn.linear_model import LinearRegression\n",
    "from sklearn.model_selection import train_test_split\n",
    "from sklearn.preprocessing import LabelEncoder\n",
    "from sklearn.feature_extraction.text import CountVectorizer\n",
    "from sklearn_pandas import DataFrameMapper\n",
    "from sklearn.metrics import mean_squared_error, r2_score"
   ]
  },
  {
   "cell_type": "code",
   "execution_count": null,
   "metadata": {},
   "outputs": [],
   "source": [
    "dataset_home = \"datasets/haskell\"    \n",
    "\n",
    "exercises_df = pd.DataFrame(\n",
    "    columns=['exercise.name', 'submission_amount', 'aborted', 'errored', 'failed', 'passed',\n",
    "             'passed_with_warnings', 'pending', 'manual_evaluation_pending'])\n",
    "\n",
    "for exercise in os.listdir(dataset_home):\n",
    "    json_file = open(os.path.join(dataset_home, exercise), encoding='utf8')\n",
    "    json_data = json.load(json_file)\n",
    "    submissions = pd.io.json.json_normalize(json_data)\n",
    "    total_amount_submissions = submissions.shape[0]\n",
    "    submissions_grouped = submissions.groupby(['status']).size()\n",
    "    metrics = {}\n",
    "    metrics = submissions_grouped\n",
    "    metrics['exercise.name'] = str(exercise)\n",
    "    metrics['submission_amount'] = total_amount_submissions\n",
    "    exercises_df = exercises_df.append(metrics, ignore_index=True)\n"
   ]
  },
  {
   "cell_type": "code",
   "execution_count": null,
   "metadata": {},
   "outputs": [],
   "source": [
    "submissions.columns"
   ]
  },
  {
   "cell_type": "code",
   "execution_count": 3,
   "metadata": {},
   "outputs": [
    {
     "data": {
      "text/html": [
       "<div>\n",
       "<style scoped>\n",
       "    .dataframe tbody tr th:only-of-type {\n",
       "        vertical-align: middle;\n",
       "    }\n",
       "\n",
       "    .dataframe tbody tr th {\n",
       "        vertical-align: top;\n",
       "    }\n",
       "\n",
       "    .dataframe thead th {\n",
       "        text-align: right;\n",
       "    }\n",
       "</style>\n",
       "<table border=\"1\" class=\"dataframe\">\n",
       "  <thead>\n",
       "    <tr style=\"text-align: right;\">\n",
       "      <th></th>\n",
       "      <th>exercise.name</th>\n",
       "      <th>submission_amount</th>\n",
       "      <th>aborted</th>\n",
       "      <th>errored</th>\n",
       "      <th>failed</th>\n",
       "      <th>passed</th>\n",
       "      <th>passed_with_warnings</th>\n",
       "      <th>pending</th>\n",
       "      <th>manual_evaluation_pending</th>\n",
       "      <th>running</th>\n",
       "    </tr>\n",
       "  </thead>\n",
       "  <tbody>\n",
       "    <tr>\n",
       "      <th>31</th>\n",
       "      <td>submissions_Tipando más funciones.json</td>\n",
       "      <td>6328</td>\n",
       "      <td>53</td>\n",
       "      <td>1703</td>\n",
       "      <td>3442</td>\n",
       "      <td>1023</td>\n",
       "      <td>107</td>\n",
       "      <td>NaN</td>\n",
       "      <td>NaN</td>\n",
       "      <td>NaN</td>\n",
       "    </tr>\n",
       "    <tr>\n",
       "      <th>194</th>\n",
       "      <td>submissions_Puntos Para Setenta!.json</td>\n",
       "      <td>6450</td>\n",
       "      <td>78</td>\n",
       "      <td>1553</td>\n",
       "      <td>3614</td>\n",
       "      <td>574</td>\n",
       "      <td>631</td>\n",
       "      <td>NaN</td>\n",
       "      <td>NaN</td>\n",
       "      <td>NaN</td>\n",
       "    </tr>\n",
       "    <tr>\n",
       "      <th>152</th>\n",
       "      <td>submissions_Para cerrar....json</td>\n",
       "      <td>8193</td>\n",
       "      <td>96</td>\n",
       "      <td>3715</td>\n",
       "      <td>2513</td>\n",
       "      <td>568</td>\n",
       "      <td>1300</td>\n",
       "      <td>1</td>\n",
       "      <td>NaN</td>\n",
       "      <td>NaN</td>\n",
       "    </tr>\n",
       "    <tr>\n",
       "      <th>80</th>\n",
       "      <td>submissions_haceFrioF.json</td>\n",
       "      <td>10367</td>\n",
       "      <td>184</td>\n",
       "      <td>3405</td>\n",
       "      <td>3534</td>\n",
       "      <td>1361</td>\n",
       "      <td>1883</td>\n",
       "      <td>NaN</td>\n",
       "      <td>NaN</td>\n",
       "      <td>NaN</td>\n",
       "    </tr>\n",
       "    <tr>\n",
       "      <th>7</th>\n",
       "      <td>submissions_Tipos complicados.json</td>\n",
       "      <td>10463</td>\n",
       "      <td>147</td>\n",
       "      <td>1947</td>\n",
       "      <td>7242</td>\n",
       "      <td>615</td>\n",
       "      <td>509</td>\n",
       "      <td>3</td>\n",
       "      <td>NaN</td>\n",
       "      <td>NaN</td>\n",
       "    </tr>\n",
       "    <tr>\n",
       "      <th>253</th>\n",
       "      <td>submissions_esMultiploDe.json</td>\n",
       "      <td>11698</td>\n",
       "      <td>130</td>\n",
       "      <td>4123</td>\n",
       "      <td>4276</td>\n",
       "      <td>2303</td>\n",
       "      <td>865</td>\n",
       "      <td>1</td>\n",
       "      <td>NaN</td>\n",
       "      <td>NaN</td>\n",
       "    </tr>\n",
       "    <tr>\n",
       "      <th>272</th>\n",
       "      <td>submissions_Más clases de tipos.json</td>\n",
       "      <td>11964</td>\n",
       "      <td>110</td>\n",
       "      <td>4635</td>\n",
       "      <td>6222</td>\n",
       "      <td>993</td>\n",
       "      <td>4</td>\n",
       "      <td>NaN</td>\n",
       "      <td>NaN</td>\n",
       "      <td>NaN</td>\n",
       "    </tr>\n",
       "    <tr>\n",
       "      <th>50</th>\n",
       "      <td>submissions_esMultiploDeTres.json</td>\n",
       "      <td>12956</td>\n",
       "      <td>175</td>\n",
       "      <td>6041</td>\n",
       "      <td>4886</td>\n",
       "      <td>1830</td>\n",
       "      <td>24</td>\n",
       "      <td>NaN</td>\n",
       "      <td>NaN</td>\n",
       "      <td>NaN</td>\n",
       "    </tr>\n",
       "    <tr>\n",
       "      <th>149</th>\n",
       "      <td>submissions_Restricciones Múltiples.json</td>\n",
       "      <td>13037</td>\n",
       "      <td>121</td>\n",
       "      <td>2664</td>\n",
       "      <td>9192</td>\n",
       "      <td>821</td>\n",
       "      <td>239</td>\n",
       "      <td>NaN</td>\n",
       "      <td>NaN</td>\n",
       "      <td>NaN</td>\n",
       "    </tr>\n",
       "    <tr>\n",
       "      <th>257</th>\n",
       "      <td>submissions_esBisiesto.json</td>\n",
       "      <td>22751</td>\n",
       "      <td>329</td>\n",
       "      <td>5416</td>\n",
       "      <td>14020</td>\n",
       "      <td>1925</td>\n",
       "      <td>1057</td>\n",
       "      <td>4</td>\n",
       "      <td>NaN</td>\n",
       "      <td>NaN</td>\n",
       "    </tr>\n",
       "  </tbody>\n",
       "</table>\n",
       "</div>"
      ],
      "text/plain": [
       "                                exercise.name submission_amount aborted  \\\n",
       "31     submissions_Tipando más funciones.json              6328      53   \n",
       "194     submissions_Puntos Para Setenta!.json              6450      78   \n",
       "152           submissions_Para cerrar....json              8193      96   \n",
       "80                 submissions_haceFrioF.json             10367     184   \n",
       "7          submissions_Tipos complicados.json             10463     147   \n",
       "253             submissions_esMultiploDe.json             11698     130   \n",
       "272      submissions_Más clases de tipos.json             11964     110   \n",
       "50          submissions_esMultiploDeTres.json             12956     175   \n",
       "149  submissions_Restricciones Múltiples.json             13037     121   \n",
       "257               submissions_esBisiesto.json             22751     329   \n",
       "\n",
       "    errored failed passed passed_with_warnings pending  \\\n",
       "31     1703   3442   1023                  107     NaN   \n",
       "194    1553   3614    574                  631     NaN   \n",
       "152    3715   2513    568                 1300       1   \n",
       "80     3405   3534   1361                 1883     NaN   \n",
       "7      1947   7242    615                  509       3   \n",
       "253    4123   4276   2303                  865       1   \n",
       "272    4635   6222    993                    4     NaN   \n",
       "50     6041   4886   1830                   24     NaN   \n",
       "149    2664   9192    821                  239     NaN   \n",
       "257    5416  14020   1925                 1057       4   \n",
       "\n",
       "    manual_evaluation_pending  running  \n",
       "31                        NaN      NaN  \n",
       "194                       NaN      NaN  \n",
       "152                       NaN      NaN  \n",
       "80                        NaN      NaN  \n",
       "7                         NaN      NaN  \n",
       "253                       NaN      NaN  \n",
       "272                       NaN      NaN  \n",
       "50                        NaN      NaN  \n",
       "149                       NaN      NaN  \n",
       "257                       NaN      NaN  "
      ]
     },
     "execution_count": 3,
     "metadata": {},
     "output_type": "execute_result"
    }
   ],
   "source": [
    "exercises_df[exercises_df.submission_amount >100].sort_values('submission_amount').tail(10)\n"
   ]
  },
  {
   "cell_type": "markdown",
   "metadata": {},
   "source": [
    "We choosed mitad exercise beacause the submissions are distributed as we want"
   ]
  },
  {
   "cell_type": "markdown",
   "metadata": {},
   "source": [
    "# Load Submissions of Mitad exercise\n",
    "Exercise link:\n",
    "https://central.mumuki.io/exercises/4256-programacion-funcional-practica-valores-y-funciones-mitad#editor"
   ]
  },
  {
   "cell_type": "code",
   "execution_count": 31,
   "metadata": {},
   "outputs": [
    {
     "data": {
      "text/plain": [
       "status\n",
       "aborted                 0.011635\n",
       "errored                 0.101222\n",
       "failed                  0.190809\n",
       "passed                  0.695172\n",
       "passed_with_warnings    0.001163\n",
       "submission_amount       1.000000\n",
       "dtype: float64"
      ]
     },
     "execution_count": 31,
     "metadata": {},
     "output_type": "execute_result"
    }
   ],
   "source": [
    "dataset_home = \"datasets/haskell\"\n",
    "json_file = open(os.path.join(dataset_home, 'submissions_mitad.json'), encoding='utf8')\n",
    "json_data = json.load(json_file)\n",
    "submissions = pd.io.json.json_normalize(json_data)\n",
    "total_amount_submissions = submissions.shape[0]\n",
    "submissions_grouped = submissions.groupby(['status']).size()\n",
    "metrics = {}\n",
    "metrics = submissions_grouped\n",
    "metrics['submission_amount'] = total_amount_submissions\n",
    "metrics/total_amount_submissions"
   ]
  },
  {
   "cell_type": "markdown",
   "metadata": {},
   "source": [
    "# Narrowing Dataset"
   ]
  },
  {
   "cell_type": "code",
   "execution_count": 4,
   "metadata": {},
   "outputs": [],
   "source": [
    "submissions = submissions[submissions['content'] != \"\"]\n",
    "submissions = submissions[~submissions['content'].isnull()]\n",
    "submissions = submissions[~(submissions['status'] == 'aborted')]\n",
    "submissions = submissions[~(submissions['status'] == 'pending')]\n",
    "#Improve it\n",
    "submissions['result'] =  submissions.apply(\n",
    "    lambda x : str(x.test_results) if x.status == 'failed' else (\n",
    "        str(x.expectation_results) if x.status == 'passed_with_warnings' else('passed' if x.status == 'passed' else x.result)), axis=1)"
   ]
  },
  {
   "cell_type": "markdown",
   "metadata": {},
   "source": [
    "As we choose only one exercise, in train set we only need sumbmission's content"
   ]
  },
  {
   "cell_type": "code",
   "execution_count": null,
   "metadata": {},
   "outputs": [],
   "source": []
  },
  {
   "cell_type": "code",
   "execution_count": 7,
   "metadata": {},
   "outputs": [],
   "source": [
    "X = submissions['content']\n",
    "Y = submissions['status']"
   ]
  },
  {
   "cell_type": "code",
   "execution_count": 8,
   "metadata": {},
   "outputs": [],
   "source": [
    "X_train, X_test, Y_train, Y_test = train_test_split(X,Y, test_size=0.33, random_state=42)"
   ]
  },
  {
   "cell_type": "markdown",
   "metadata": {},
   "source": [
    "# Size of datasets\n",
    "* X train 1131 \n",
    "* X test 558 \n",
    "* Y train 1131\n",
    "* Y test 558"
   ]
  },
  {
   "cell_type": "code",
   "execution_count": 9,
   "metadata": {},
   "outputs": [
    {
     "data": {
      "text/plain": [
       "LabelEncoder()"
      ]
     },
     "execution_count": 9,
     "metadata": {},
     "output_type": "execute_result"
    }
   ],
   "source": [
    "le = LabelEncoder()\n",
    "le.fit(Y.unique())"
   ]
  },
  {
   "cell_type": "code",
   "execution_count": 27,
   "metadata": {},
   "outputs": [
    {
     "data": {
      "text/plain": [
       "{'mitad': 24,\n",
       " 'numero': 42,\n",
       " 'float': 12,\n",
       " 'div': 4,\n",
       " 'num': 39,\n",
       " 'mod': 29,\n",
       " 'valor': 51,\n",
       " 'abs': 1,\n",
       " 'nro': 38,\n",
       " 'con': 2,\n",
       " 'notacion': 37,\n",
       " 'infija': 20,\n",
       " 'point': 46,\n",
       " 'free': 15,\n",
       " 'double': 8,\n",
       " 'nunero': 44,\n",
       " 'mtad': 32,\n",
       " 'num1': 40,\n",
       " 'divide': 5,\n",
       " 'flip': 11,\n",
       " 'mitadnumero': 26,\n",
       " 'mitadn': 25,\n",
       " 'n1': 34,\n",
       " 'n2': 35,\n",
       " 'decimalpart': 3,\n",
       " 'int': 21,\n",
       " 'fromintegral': 16,\n",
       " 'foo': 13,\n",
       " 'modn': 31,\n",
       " 'unnro': 49,\n",
       " 'division': 7,\n",
       " 'mitado': 27,\n",
       " 'rem': 48,\n",
       " 'munero': 33,\n",
       " 'mod2': 30,\n",
       " 'la': 23,\n",
       " 'funcion': 17,\n",
       " 'es': 10,\n",
       " 'mitas': 28,\n",
       " 'no': 36,\n",
       " 'funciona': 18,\n",
       " 'porque': 47,\n",
       " 'para': 45,\n",
       " 'enteros': 9,\n",
       " 'numero2': 43,\n",
       " 'unnumero': 50,\n",
       " 'integer': 22,\n",
       " 'number': 41,\n",
       " 'half': 19,\n",
       " 'dividir': 6,\n",
       " '10': 0,\n",
       " 'fractional': 14}"
      ]
     },
     "execution_count": 27,
     "metadata": {},
     "output_type": "execute_result"
    }
   ],
   "source": [
    "cv = CountVectorizer()\n",
    "cv.fit(X_train)\n",
    "\n",
    "cv.vocabulary_"
   ]
  },
  {
   "cell_type": "code",
   "execution_count": 11,
   "metadata": {},
   "outputs": [],
   "source": [
    "X_train_trans = cv.transform(X_train)\n",
    "Y_train_trans = le.transform(Y_train)"
   ]
  },
  {
   "cell_type": "code",
   "execution_count": 12,
   "metadata": {},
   "outputs": [
    {
     "data": {
      "text/plain": [
       "LinearRegression(copy_X=True, fit_intercept=True, n_jobs=1, normalize=False)"
      ]
     },
     "execution_count": 12,
     "metadata": {},
     "output_type": "execute_result"
    }
   ],
   "source": [
    "lr = LinearRegression()\n",
    "lr.fit(X_train_trans, Y_train_trans)"
   ]
  },
  {
   "cell_type": "code",
   "execution_count": 13,
   "metadata": {},
   "outputs": [],
   "source": [
    "X_test_trans = cv.transform(X_test)\n",
    "Y_test_trans = le.transform(Y_test)"
   ]
  },
  {
   "cell_type": "code",
   "execution_count": 14,
   "metadata": {},
   "outputs": [],
   "source": [
    "Y_predicted = lr.predict(X_test_trans)"
   ]
  },
  {
   "cell_type": "markdown",
   "metadata": {},
   "source": [
    "# Metrics"
   ]
  },
  {
   "cell_type": "code",
   "execution_count": 15,
   "metadata": {
    "scrolled": false
   },
   "outputs": [
    {
     "name": "stdout",
     "output_type": "stream",
     "text": [
      "Mean squared error: 0.35\n",
      "Variance score: 0.22\n"
     ]
    }
   ],
   "source": [
    "print(\"Mean squared error: %.2f\"\n",
    "      % mean_squared_error(Y_test_trans, Y_predicted))\n",
    "print('Variance score: %.2f' % r2_score(Y_test_trans, Y_predicted))"
   ]
  },
  {
   "cell_type": "markdown",
   "metadata": {},
   "source": [
    "# Mini example"
   ]
  },
  {
   "cell_type": "code",
   "execution_count": 16,
   "metadata": {},
   "outputs": [],
   "source": [
    "my_subm = ['mitad x = x /2']\n",
    "my_transf = cv.transform(my_subm)"
   ]
  },
  {
   "cell_type": "code",
   "execution_count": 17,
   "metadata": {},
   "outputs": [],
   "source": [
    "predicted = lr.predict(my_transf)"
   ]
  },
  {
   "cell_type": "code",
   "execution_count": 18,
   "metadata": {},
   "outputs": [
    {
     "data": {
      "text/plain": [
       "1.64473895313893"
      ]
     },
     "execution_count": 18,
     "metadata": {},
     "output_type": "execute_result"
    }
   ],
   "source": [
    "predicted[0]"
   ]
  },
  {
   "cell_type": "code",
   "execution_count": 19,
   "metadata": {},
   "outputs": [
    {
     "name": "stderr",
     "output_type": "stream",
     "text": [
      "/home/mrc/anaconda3/envs/mumuki/lib/python3.6/site-packages/sklearn/preprocessing/label.py:151: DeprecationWarning: The truth value of an empty array is ambiguous. Returning False, but in future this will result in an error. Use `array.size > 0` to check that an array is not empty.\n",
      "  if diff:\n"
     ]
    },
    {
     "data": {
      "text/plain": [
       "'passed'"
      ]
     },
     "execution_count": 19,
     "metadata": {},
     "output_type": "execute_result"
    }
   ],
   "source": [
    "le.inverse_transform(math.ceil(predicted[0]))"
   ]
  },
  {
   "cell_type": "code",
   "execution_count": null,
   "metadata": {},
   "outputs": [],
   "source": []
  }
 ],
 "metadata": {
  "kernelspec": {
   "display_name": "Python 3",
   "language": "python",
   "name": "python3"
  },
  "language_info": {
   "codemirror_mode": {
    "name": "ipython",
    "version": 3
   },
   "file_extension": ".py",
   "mimetype": "text/x-python",
   "name": "python",
   "nbconvert_exporter": "python",
   "pygments_lexer": "ipython3",
   "version": "3.6.5"
  }
 },
 "nbformat": 4,
 "nbformat_minor": 2
}
