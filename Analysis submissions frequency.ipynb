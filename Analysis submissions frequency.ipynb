{
 "cells": [
  {
   "cell_type": "code",
   "execution_count": 42,
   "metadata": {
    "ExecuteTime": {
     "end_time": "2019-03-02T16:50:47.592246Z",
     "start_time": "2019-03-02T16:50:47.585250Z"
    }
   },
   "outputs": [],
   "source": [
    "import json\n",
    "import Levenshtein as lv\n",
    "import numpy as np\n",
    "import pandas as pd\n",
    "import matplotlib.pyplot as plt\n",
    "import pickle"
   ]
  },
  {
   "cell_type": "code",
   "execution_count": 43,
   "metadata": {
    "ExecuteTime": {
     "end_time": "2019-03-02T16:50:47.974832Z",
     "start_time": "2019-03-02T16:50:47.951981Z"
    }
   },
   "outputs": [],
   "source": [
    "def measure_time_distance(timedelta):\n",
    "    \"\"\"\n",
    "    Function that convert timedelta into seconds\n",
    "    \"\"\"\n",
    "    distance = (timedelta.total_seconds())\n",
    "    return distance\n",
    "\n",
    "def measure_text_distance(x,y):\n",
    "    \"\"\"\n",
    "    Function that calculate the Levenshtein distance\n",
    "    between two submissions code.\n",
    "    https://en.wikipedia.org/wiki/Levenshtein_distance\n",
    "    \"\"\"\n",
    "    return lv.distance(x,y)\n",
    "\n",
    "def calculate_distribution(df, column_name, exercise, mean=True):\n",
    "    \"\"\"\n",
    "    df: Dataframe with submissions\n",
    "    column_name: column with status\n",
    "\n",
    "    Function to obtain distribution of submissions status\n",
    "    return metrics and amount of submissions\n",
    "    \"\"\"\n",
    "    total_amount_submissions = df.shape[0]\n",
    "    submissions_grouped = df.groupby([column_name]).size()\n",
    "    metrics = {}\n",
    "    if mean:\n",
    "        metrics = submissions_grouped/total_amount_submissions\n",
    "    else:\n",
    "        metrics = submissions_grouped\n",
    "    metrics['exercise'] = str(exercise)\n",
    "    metrics['submission_amount'] = total_amount_submissions\n",
    "    return metrics\n",
    "\n",
    "def shift_columns(df, shift_social=False):\n",
    "    \"\"\"\n",
    "    Function that create 4 new columns\n",
    "    shifted column contains submissions_content shifted to calculate the distance\n",
    "    datetime_shifted contains datetime shifted to calculate the distance between times\n",
    "    \n",
    "    distance, Levenshtein distance between submissions\n",
    "    time_dist, time distance between submissions in seconds\n",
    "    \"\"\"\n",
    "    df.loc[:,'shifted'] = df['submissions_content'].shift().fillna(value='')\n",
    "    df.loc[:,'guide.name.previous'] = df['guide.name'].shift().fillna(value='')\n",
    "    df.loc[:,'datetime_shifted'] = df['datetime'].shift().fillna(value=pd.Timestamp(1800, 1, 1, 0))\n",
    "    df.loc[:,'student.email.previous'] = df['student.email'].shift().fillna(value='')\n",
    "    df['distance'] = df.apply(lambda x : measure_text_distance(x['submissions_content'],x['shifted']), axis=1)\n",
    "    df['time_dist'] = df.apply(lambda x : measure_time_distance(x['datetime']-x['datetime_shifted']), axis=1)\n",
    "    df.loc[:,'exercise.eid.previous'] = df['exercise.eid'].shift().fillna(value='')\n",
    "    df.loc[:,'exercise.name.previous'] = df['exercise.name'].shift().fillna(value='')\n",
    "    df.loc[:,'submissions_status.previous'] = df['submissions_status'].shift().fillna(value='')\n",
    "    df.loc[:,'submissions_count.previous'] = df['submissions_submissions_count'].shift().fillna(value='')\n",
    "    df['switch_exercise'] = df.apply(lambda x : x['exercise.name'] != x['exercise.name.previous'], axis=1)\n",
    "    if shift_social:\n",
    "        df['submitter.social_id.previous'] = df['submitter.social_id'].shift().fillna(value='')\n",
    "        \n",
    "    return df\n",
    "\n",
    "def plot_time_between_submissions(dic, time_max):\n",
    "    plt.gcf().clear()\n",
    "    plt.style.use('seaborn')\n",
    "    plt.figure(\"Time between submissions\", figsize=(30,15))\n",
    "    plt.title(\"Tiempo entre soluciones\", size=26)\n",
    "    plt.bar(list(dic.keys()), height=list(dic.values()), edgecolor='black', label='Cantidad de submissions', width=4)\n",
    "\n",
    "    #ticks = np.arange(10, time_max, 10)\n",
    "    #plt.xticks(rotation=70)\n",
    "    #plt.xticks(ticks, ticks, size=13)\n",
    "\n",
    "    plt.xlabel('Tiempo (en segundos)', size=18)\n",
    "    plt.ylabel('Cantidad de submissions', size=18)\n",
    "    plt.legend()\n",
    "    plt.show()"
   ]
  },
  {
   "cell_type": "markdown",
   "metadata": {},
   "source": [
    "### Load Dataset\n",
    "Load dataset, normalize and expand nested json with submissions to obtain a plain dataframe with one submission in each row.\n",
    "\n",
    "Before, create a column named as 'datetime' with the date and time of the submission.\n",
    "\n",
    "Finally remove all the null content submissions because these will cause problems in processings."
   ]
  },
  {
   "cell_type": "code",
   "execution_count": 49,
   "metadata": {
    "ExecuteTime": {
     "end_time": "2019-03-02T16:51:26.177478Z",
     "start_time": "2019-03-02T16:51:25.266145Z"
    }
   },
   "outputs": [],
   "source": [
    "dataset_home = \"datasets/\"\n",
    "json_file = open(dataset_home + '2018-2c-introalgo-2018-2c.json', encoding='utf8')\n",
    "json_data = json.load(json_file)\n",
    "submissions = pd.io.json.json_normalize(\n",
    "      json_data, 'submissions', [['guide','slug'], ['student','email'],['guide','name'], ['exercise','name'],['exercise','eid'],['guide','language','name']], record_prefix='submissions_', errors='ignore')\n",
    "submissions['datetime'] = pd.to_datetime(submissions['submissions_created_at'])\n",
    "submissions = submissions[~submissions['submissions_content'].isnull()]\n",
    "submissions = submissions[~(submissions['submissions_status']=='aborted')]\n",
    "submissions = submissions[submissions['guide.language.name'] == 'haskell']\n",
    "submissions = submissions.drop(\n",
    "    submissions[(submissions['student.email'] == 'walteralini@gmail.com') |\n",
    "                (submissions['student.email'] == 'romina.altamirano@gmail.com') |\n",
    "                (submissions['student.email'] == 'kouichicruz@gmail.com')].index)\n",
    "submissions = submissions.drop(\n",
    "    submissions[(submissions['student.email'] == 'ismaelpeker@gmail.com') &\n",
    "                (submissions['submissions_created_at'].str.contains('2017'))].index)\n",
    "short_submissions_df = submissions[['submissions_content','datetime','exercise.name', 'student.email']]"
   ]
  },
  {
   "cell_type": "code",
   "execution_count": 45,
   "metadata": {
    "ExecuteTime": {
     "end_time": "2019-03-02T16:50:51.204797Z",
     "start_time": "2019-03-02T16:50:51.193958Z"
    }
   },
   "outputs": [
    {
     "name": "stdout",
     "output_type": "stream",
     "text": [
      "Mem usage with full df 2637856\n",
      "Mem usage with short df 775840\n",
      "Proportion between df 0.29411764705882354\n"
     ]
    }
   ],
   "source": [
    "mem_big = submissions.memory_usage(index=True).sum()\n",
    "mem_short = short_submissions_df.memory_usage(index=True).sum()\n",
    "print(\"Mem usage with full df {}\".format(mem_big))\n",
    "print(\"Mem usage with short df {}\".format(mem_short))\n",
    "\n",
    "print(\"Proportion between df {}\".format(mem_short/mem_big))"
   ]
  },
  {
   "cell_type": "markdown",
   "metadata": {},
   "source": [
    "### Only for dive into dataset\n",
    "show status distribution"
   ]
  },
  {
   "cell_type": "code",
   "execution_count": 101,
   "metadata": {
    "ExecuteTime": {
     "end_time": "2019-03-02T17:47:17.528858Z",
     "start_time": "2019-03-02T17:47:17.395533Z"
    }
   },
   "outputs": [],
   "source": [
    "import os\n",
    "#os.listdir('dataframes_pkl/failed_submissions_df.pkl')\n",
    "submissions = pd.read_pickle('dataframes_pkl/introAlgo_FINAL_anotado.pkl')"
   ]
  },
  {
   "cell_type": "code",
   "execution_count": 21,
   "metadata": {
    "ExecuteTime": {
     "end_time": "2019-03-02T16:46:32.420630Z",
     "start_time": "2019-03-02T16:46:32.399579Z"
    }
   },
   "outputs": [
    {
     "data": {
      "text/plain": [
       "submissions_status\n",
       "errored                  7457\n",
       "failed                   7855\n",
       "passed                   3269\n",
       "passed_with_warnings      790\n",
       "exercise                todos\n",
       "submission_amount       19371\n",
       "dtype: object"
      ]
     },
     "execution_count": 21,
     "metadata": {},
     "output_type": "execute_result"
    }
   ],
   "source": [
    "calculate_distribution(submissions_io, 'submissions_status', 'todos', False)"
   ]
  },
  {
   "cell_type": "code",
   "execution_count": 46,
   "metadata": {
    "ExecuteTime": {
     "end_time": "2019-03-02T16:51:02.500584Z",
     "start_time": "2019-03-02T16:51:02.478964Z"
    }
   },
   "outputs": [
    {
     "data": {
      "text/plain": [
       "submissions_status\n",
       "errored                           7459\n",
       "failed                            7874\n",
       "passed                            3271\n",
       "passed_with_warnings               792\n",
       "exercise                IntroAlgo 2018\n",
       "submission_amount                19396\n",
       "dtype: object"
      ]
     },
     "execution_count": 46,
     "metadata": {},
     "output_type": "execute_result"
    }
   ],
   "source": [
    "calculate_distribution(submissions, 'submissions_status', 'IntroAlgo 2018', mean=False)"
   ]
  },
  {
   "cell_type": "markdown",
   "metadata": {},
   "source": [
    "### Important thing is done below\n",
    "Calculate time between submissions by exercise and student.\n",
    "Only calculate for exercises with more than one submissions done.\n",
    "One thing that u have to consider, the time diference between first submissions is calculated subtracting it with 1-1-1800.\n",
    "So it is easiest way to figure out which is the time difference that u have not consider as a valid time difference.\n"
   ]
  },
  {
   "cell_type": "code",
   "execution_count": 74,
   "metadata": {
    "ExecuteTime": {
     "end_time": "2019-03-02T17:22:03.918662Z",
     "start_time": "2019-03-02T17:22:03.898333Z"
    }
   },
   "outputs": [
    {
     "data": {
      "text/plain": [
       "Index(['content', 'guide.name', 'datetime', 'student.email', 'distance',\n",
       "       'time_dist', 'exercise.eid', 'exercise.name', 'submissions_status',\n",
       "       'submissions_count', 'switch_exercise', 'dropout_switch',\n",
       "       'dropout_session', 'dropout_session_tray', 'dropout_switch_tray',\n",
       "       'dropout', 'dropout_tray', 'PSA', 'PCA', 'PCAM', 'PA', 'EA', 'PPA',\n",
       "       'PTT', 'PDL', 'IPA', 'PCSA', 'APE', 'CAPE', 'COMP'],\n",
       "      dtype='object')"
      ]
     },
     "execution_count": 74,
     "metadata": {},
     "output_type": "execute_result"
    }
   ],
   "source": [
    "submissions.columns"
   ]
  },
  {
   "cell_type": "code",
   "execution_count": 50,
   "metadata": {
    "ExecuteTime": {
     "end_time": "2019-03-02T16:51:40.536115Z",
     "start_time": "2019-03-02T16:51:35.167674Z"
    }
   },
   "outputs": [],
   "source": [
    "#para mumukio\n",
    "#submissions = submissions.sort_values(['student.email', 'datetime'])\n",
    "#submissions = shift_columns(submissions, True)\n",
    "#para introAlgo\n",
    "submissions = submissions.sort_values(['student.email', 'datetime'])\n",
    "submissions = shift_columns(submissions, False)"
   ]
  },
  {
   "cell_type": "code",
   "execution_count": 6,
   "metadata": {
    "ExecuteTime": {
     "end_time": "2019-01-15T13:26:01.572482Z",
     "start_time": "2019-01-15T13:26:01.568927Z"
    }
   },
   "outputs": [],
   "source": [
    "#only to show\n",
    "#submissions[(submissions['student.email'] == submissions['student.email.previous'])][['student.email', 'student.email.previous', 'time_dist']].sort_values('time_dist', ascending=False)\n",
    "#submissions[(submissions['student.email'] == submissions['student.email.previous']) |(submissions['submitter.social_id'] == submissions['submitter.social_id.previous'])][['student.email', 'student.email.previous', 'time_dist']].sort_values('time_dist', ascending=False)#['time_dist']"
   ]
  },
  {
   "cell_type": "markdown",
   "metadata": {},
   "source": [
    "### another important task is donde below\n",
    "First of all, sort time differences calculated previously ascending, round it (in the furture probably we dont want to round it).\n",
    "Before that count the differences times ocurrences. "
   ]
  },
  {
   "cell_type": "code",
   "execution_count": 52,
   "metadata": {
    "ExecuteTime": {
     "end_time": "2019-03-02T16:51:56.470902Z",
     "start_time": "2019-03-02T16:51:56.449532Z"
    }
   },
   "outputs": [],
   "source": [
    "#submissions = submissions[(submissions['student.email'] == submissions['student.email.previous']) | \n",
    "#                         (submissions['submitter.social_id'] == submissions['submitter.social_id.previous'])]\n",
    "#introalgo\n",
    "submissions = submissions[submissions['student.email'] == submissions['student.email.previous']]"
   ]
  },
  {
   "cell_type": "code",
   "execution_count": null,
   "metadata": {},
   "outputs": [],
   "source": []
  },
  {
   "cell_type": "code",
   "execution_count": 102,
   "metadata": {
    "ExecuteTime": {
     "end_time": "2019-03-02T17:47:20.857099Z",
     "start_time": "2019-03-02T17:47:20.807312Z"
    }
   },
   "outputs": [
    {
     "data": {
      "text/html": [
       "<div>\n",
       "<style scoped>\n",
       "    .dataframe tbody tr th:only-of-type {\n",
       "        vertical-align: middle;\n",
       "    }\n",
       "\n",
       "    .dataframe tbody tr th {\n",
       "        vertical-align: top;\n",
       "    }\n",
       "\n",
       "    .dataframe thead th {\n",
       "        text-align: right;\n",
       "    }\n",
       "</style>\n",
       "<table border=\"1\" class=\"dataframe\">\n",
       "  <thead>\n",
       "    <tr style=\"text-align: right;\">\n",
       "      <th></th>\n",
       "      <th>time_dist</th>\n",
       "    </tr>\n",
       "  </thead>\n",
       "  <tbody>\n",
       "    <tr>\n",
       "      <th>0</th>\n",
       "      <td>0.0</td>\n",
       "    </tr>\n",
       "    <tr>\n",
       "      <th>1</th>\n",
       "      <td>1.0</td>\n",
       "    </tr>\n",
       "    <tr>\n",
       "      <th>2</th>\n",
       "      <td>2.0</td>\n",
       "    </tr>\n",
       "    <tr>\n",
       "      <th>3</th>\n",
       "      <td>3.0</td>\n",
       "    </tr>\n",
       "    <tr>\n",
       "      <th>4</th>\n",
       "      <td>3.0</td>\n",
       "    </tr>\n",
       "    <tr>\n",
       "      <th>5</th>\n",
       "      <td>3.0</td>\n",
       "    </tr>\n",
       "    <tr>\n",
       "      <th>6</th>\n",
       "      <td>3.0</td>\n",
       "    </tr>\n",
       "    <tr>\n",
       "      <th>7</th>\n",
       "      <td>3.0</td>\n",
       "    </tr>\n",
       "    <tr>\n",
       "      <th>8</th>\n",
       "      <td>3.0</td>\n",
       "    </tr>\n",
       "    <tr>\n",
       "      <th>9</th>\n",
       "      <td>3.0</td>\n",
       "    </tr>\n",
       "    <tr>\n",
       "      <th>10</th>\n",
       "      <td>3.0</td>\n",
       "    </tr>\n",
       "    <tr>\n",
       "      <th>11</th>\n",
       "      <td>3.0</td>\n",
       "    </tr>\n",
       "    <tr>\n",
       "      <th>12</th>\n",
       "      <td>3.0</td>\n",
       "    </tr>\n",
       "    <tr>\n",
       "      <th>13</th>\n",
       "      <td>3.0</td>\n",
       "    </tr>\n",
       "    <tr>\n",
       "      <th>14</th>\n",
       "      <td>3.0</td>\n",
       "    </tr>\n",
       "    <tr>\n",
       "      <th>15</th>\n",
       "      <td>3.0</td>\n",
       "    </tr>\n",
       "    <tr>\n",
       "      <th>16</th>\n",
       "      <td>3.0</td>\n",
       "    </tr>\n",
       "    <tr>\n",
       "      <th>17</th>\n",
       "      <td>4.0</td>\n",
       "    </tr>\n",
       "    <tr>\n",
       "      <th>18</th>\n",
       "      <td>4.0</td>\n",
       "    </tr>\n",
       "    <tr>\n",
       "      <th>19</th>\n",
       "      <td>4.0</td>\n",
       "    </tr>\n",
       "    <tr>\n",
       "      <th>20</th>\n",
       "      <td>4.0</td>\n",
       "    </tr>\n",
       "    <tr>\n",
       "      <th>21</th>\n",
       "      <td>4.0</td>\n",
       "    </tr>\n",
       "    <tr>\n",
       "      <th>22</th>\n",
       "      <td>4.0</td>\n",
       "    </tr>\n",
       "    <tr>\n",
       "      <th>23</th>\n",
       "      <td>4.0</td>\n",
       "    </tr>\n",
       "    <tr>\n",
       "      <th>24</th>\n",
       "      <td>4.0</td>\n",
       "    </tr>\n",
       "    <tr>\n",
       "      <th>25</th>\n",
       "      <td>4.0</td>\n",
       "    </tr>\n",
       "    <tr>\n",
       "      <th>26</th>\n",
       "      <td>4.0</td>\n",
       "    </tr>\n",
       "    <tr>\n",
       "      <th>27</th>\n",
       "      <td>4.0</td>\n",
       "    </tr>\n",
       "    <tr>\n",
       "      <th>28</th>\n",
       "      <td>4.0</td>\n",
       "    </tr>\n",
       "    <tr>\n",
       "      <th>29</th>\n",
       "      <td>4.0</td>\n",
       "    </tr>\n",
       "    <tr>\n",
       "      <th>...</th>\n",
       "      <td>...</td>\n",
       "    </tr>\n",
       "    <tr>\n",
       "      <th>19272</th>\n",
       "      <td>1058461.0</td>\n",
       "    </tr>\n",
       "    <tr>\n",
       "      <th>19273</th>\n",
       "      <td>1058810.0</td>\n",
       "    </tr>\n",
       "    <tr>\n",
       "      <th>19274</th>\n",
       "      <td>1065540.0</td>\n",
       "    </tr>\n",
       "    <tr>\n",
       "      <th>19275</th>\n",
       "      <td>1138027.0</td>\n",
       "    </tr>\n",
       "    <tr>\n",
       "      <th>19276</th>\n",
       "      <td>1156646.0</td>\n",
       "    </tr>\n",
       "    <tr>\n",
       "      <th>19277</th>\n",
       "      <td>1162608.0</td>\n",
       "    </tr>\n",
       "    <tr>\n",
       "      <th>19278</th>\n",
       "      <td>1178385.0</td>\n",
       "    </tr>\n",
       "    <tr>\n",
       "      <th>19279</th>\n",
       "      <td>1183314.0</td>\n",
       "    </tr>\n",
       "    <tr>\n",
       "      <th>19280</th>\n",
       "      <td>1204272.0</td>\n",
       "    </tr>\n",
       "    <tr>\n",
       "      <th>19281</th>\n",
       "      <td>1204580.0</td>\n",
       "    </tr>\n",
       "    <tr>\n",
       "      <th>19282</th>\n",
       "      <td>1205662.0</td>\n",
       "    </tr>\n",
       "    <tr>\n",
       "      <th>19283</th>\n",
       "      <td>1208845.0</td>\n",
       "    </tr>\n",
       "    <tr>\n",
       "      <th>19284</th>\n",
       "      <td>1213533.0</td>\n",
       "    </tr>\n",
       "    <tr>\n",
       "      <th>19285</th>\n",
       "      <td>1375502.0</td>\n",
       "    </tr>\n",
       "    <tr>\n",
       "      <th>19286</th>\n",
       "      <td>1455021.0</td>\n",
       "    </tr>\n",
       "    <tr>\n",
       "      <th>19287</th>\n",
       "      <td>1461791.0</td>\n",
       "    </tr>\n",
       "    <tr>\n",
       "      <th>19288</th>\n",
       "      <td>1609516.0</td>\n",
       "    </tr>\n",
       "    <tr>\n",
       "      <th>19289</th>\n",
       "      <td>1628368.0</td>\n",
       "    </tr>\n",
       "    <tr>\n",
       "      <th>19290</th>\n",
       "      <td>1637192.0</td>\n",
       "    </tr>\n",
       "    <tr>\n",
       "      <th>19291</th>\n",
       "      <td>1656602.0</td>\n",
       "    </tr>\n",
       "    <tr>\n",
       "      <th>19292</th>\n",
       "      <td>1733809.0</td>\n",
       "    </tr>\n",
       "    <tr>\n",
       "      <th>19293</th>\n",
       "      <td>1746593.0</td>\n",
       "    </tr>\n",
       "    <tr>\n",
       "      <th>19294</th>\n",
       "      <td>1759953.0</td>\n",
       "    </tr>\n",
       "    <tr>\n",
       "      <th>19295</th>\n",
       "      <td>1801615.0</td>\n",
       "    </tr>\n",
       "    <tr>\n",
       "      <th>19296</th>\n",
       "      <td>1810636.0</td>\n",
       "    </tr>\n",
       "    <tr>\n",
       "      <th>19297</th>\n",
       "      <td>1817094.0</td>\n",
       "    </tr>\n",
       "    <tr>\n",
       "      <th>19298</th>\n",
       "      <td>1947359.0</td>\n",
       "    </tr>\n",
       "    <tr>\n",
       "      <th>19299</th>\n",
       "      <td>2305130.0</td>\n",
       "    </tr>\n",
       "    <tr>\n",
       "      <th>19300</th>\n",
       "      <td>2418851.0</td>\n",
       "    </tr>\n",
       "    <tr>\n",
       "      <th>19301</th>\n",
       "      <td>2732553.0</td>\n",
       "    </tr>\n",
       "  </tbody>\n",
       "</table>\n",
       "<p>19302 rows × 1 columns</p>\n",
       "</div>"
      ],
      "text/plain": [
       "       time_dist\n",
       "0            0.0\n",
       "1            1.0\n",
       "2            2.0\n",
       "3            3.0\n",
       "4            3.0\n",
       "5            3.0\n",
       "6            3.0\n",
       "7            3.0\n",
       "8            3.0\n",
       "9            3.0\n",
       "10           3.0\n",
       "11           3.0\n",
       "12           3.0\n",
       "13           3.0\n",
       "14           3.0\n",
       "15           3.0\n",
       "16           3.0\n",
       "17           4.0\n",
       "18           4.0\n",
       "19           4.0\n",
       "20           4.0\n",
       "21           4.0\n",
       "22           4.0\n",
       "23           4.0\n",
       "24           4.0\n",
       "25           4.0\n",
       "26           4.0\n",
       "27           4.0\n",
       "28           4.0\n",
       "29           4.0\n",
       "...          ...\n",
       "19272  1058461.0\n",
       "19273  1058810.0\n",
       "19274  1065540.0\n",
       "19275  1138027.0\n",
       "19276  1156646.0\n",
       "19277  1162608.0\n",
       "19278  1178385.0\n",
       "19279  1183314.0\n",
       "19280  1204272.0\n",
       "19281  1204580.0\n",
       "19282  1205662.0\n",
       "19283  1208845.0\n",
       "19284  1213533.0\n",
       "19285  1375502.0\n",
       "19286  1455021.0\n",
       "19287  1461791.0\n",
       "19288  1609516.0\n",
       "19289  1628368.0\n",
       "19290  1637192.0\n",
       "19291  1656602.0\n",
       "19292  1733809.0\n",
       "19293  1746593.0\n",
       "19294  1759953.0\n",
       "19295  1801615.0\n",
       "19296  1810636.0\n",
       "19297  1817094.0\n",
       "19298  1947359.0\n",
       "19299  2305130.0\n",
       "19300  2418851.0\n",
       "19301  2732553.0\n",
       "\n",
       "[19302 rows x 1 columns]"
      ]
     },
     "execution_count": 102,
     "metadata": {},
     "output_type": "execute_result"
    }
   ],
   "source": [
    "## Despliego todos los tiempos para poder tomar los percentiles\n",
    "df = submissions.sort_values(ascending=True, by='time_dist').round()['time_dist'].to_frame()\n",
    "df = df[df['time_dist'] >= 0].reset_index(drop=True)['time_dist'].to_frame()\n",
    "df"
   ]
  },
  {
   "cell_type": "code",
   "execution_count": 103,
   "metadata": {
    "ExecuteTime": {
     "end_time": "2019-03-02T17:47:23.700553Z",
     "start_time": "2019-03-02T17:47:23.678240Z"
    }
   },
   "outputs": [
    {
     "name": "stdout",
     "output_type": "stream",
     "text": [
      "Total times 19302\n",
      "Quantile %95 time 1540.7500000000036.\n",
      "Quantile %90 time 455.90000000000146.\n",
      "Quantile %85 time 266.0.\n",
      "Quantile %80 time 186.0\n"
     ]
    }
   ],
   "source": [
    "print('Total times {}'.format(df.shape[0]))\n",
    "print('Quantile %95 time {}.'.format(df.quantile(0.95)[0]))\n",
    "print('Quantile %90 time {}.'.format(df.quantile(0.90)[0]))\n",
    "print('Quantile %85 time {}.'.format(df.quantile(0.85)[0]))\n",
    "print('Quantile %80 time {}'.format(df.quantile(0.80)[0]))"
   ]
  },
  {
   "cell_type": "code",
   "execution_count": 55,
   "metadata": {
    "ExecuteTime": {
     "end_time": "2019-03-02T16:52:08.358569Z",
     "start_time": "2019-03-02T16:52:08.349120Z"
    }
   },
   "outputs": [
    {
     "data": {
      "text/plain": [
       "time_dist    454.0\n",
       "Name: 0.9, dtype: float64"
      ]
     },
     "execution_count": 55,
     "metadata": {},
     "output_type": "execute_result"
    }
   ],
   "source": [
    "df.quantile(.90)"
   ]
  },
  {
   "cell_type": "markdown",
   "metadata": {},
   "source": [
    "### 95 percentage"
   ]
  },
  {
   "cell_type": "code",
   "execution_count": 105,
   "metadata": {
    "ExecuteTime": {
     "end_time": "2019-03-02T17:47:43.090109Z",
     "start_time": "2019-03-02T17:47:42.791059Z"
    },
    "scrolled": false
   },
   "outputs": [
    {
     "name": "stderr",
     "output_type": "stream",
     "text": [
      "/home/mrc/anaconda3/envs/mumuki/lib/python3.6/site-packages/matplotlib/axes/_axes.py:6462: UserWarning: The 'normed' kwarg is deprecated, and has been replaced by the 'density' kwarg.\n",
      "  warnings.warn(\"The 'normed' kwarg is deprecated, and has been \"\n"
     ]
    },
    {
     "data": {
      "image/png": "[encoded data removed]",
      "text/plain": [
       "<Figure size 1440x720 with 1 Axes>"
      ]
     },
     "metadata": {},
     "output_type": "display_data"
    }
   ],
   "source": [
    "import pandas as pd\n",
    "import seaborn as sb\n",
    "from matplotlib import pyplot as plt\n",
    "sb.set()\n",
    "sb.set_palette(sb.color_palette(\"dark\", 100))\n",
    "plt.figure(figsize=(20,10))\n",
    "#plt.xlim(-10,1600)\n",
    "sb.distplot(df.loc[:18336, :],kde = False, label='Soluciones enviadas')\n",
    "\n",
    "plt.title('Tiempo entre soluciones - Intro Algo', size=30)\n",
    "plt.xlabel('Tiempo (en segundos)', size=18)\n",
    "plt.xticks(size=25)\n",
    "plt.yticks(size=25)\n",
    "plt.xlim(-10,1600)\n",
    "#plt.ylabel('Cantidad de submissions', size=18)\n",
    "plt.scatter([454],[200], color='red', s=1)\n",
    "plt.legend(prop={'size': 20})\n",
    "             \n",
    "plt.show()\n"
   ]
  },
  {
   "cell_type": "code",
   "execution_count": 104,
   "metadata": {
    "ExecuteTime": {
     "end_time": "2019-03-02T17:47:31.610144Z",
     "start_time": "2019-03-02T17:47:31.585366Z"
    }
   },
   "outputs": [
    {
     "data": {
      "text/html": [
       "<div>\n",
       "<style scoped>\n",
       "    .dataframe tbody tr th:only-of-type {\n",
       "        vertical-align: middle;\n",
       "    }\n",
       "\n",
       "    .dataframe tbody tr th {\n",
       "        vertical-align: top;\n",
       "    }\n",
       "\n",
       "    .dataframe thead th {\n",
       "        text-align: right;\n",
       "    }\n",
       "</style>\n",
       "<table border=\"1\" class=\"dataframe\">\n",
       "  <thead>\n",
       "    <tr style=\"text-align: right;\">\n",
       "      <th></th>\n",
       "      <th>time_dist</th>\n",
       "    </tr>\n",
       "  </thead>\n",
       "  <tbody>\n",
       "    <tr>\n",
       "      <th>18336</th>\n",
       "      <td>1541.0</td>\n",
       "    </tr>\n",
       "  </tbody>\n",
       "</table>\n",
       "</div>"
      ],
      "text/plain": [
       "       time_dist\n",
       "18336     1541.0"
      ]
     },
     "execution_count": 104,
     "metadata": {},
     "output_type": "execute_result"
    }
   ],
   "source": [
    "df[df['time_dist'] == 1541]\n",
    "#df.loc[:1493, :]"
   ]
  },
  {
   "cell_type": "code",
   "execution_count": null,
   "metadata": {},
   "outputs": [],
   "source": []
  }
 ],
 "metadata": {
  "kernelspec": {
   "display_name": "Python 3",
   "language": "python",
   "name": "python3"
  },
  "language_info": {
   "codemirror_mode": {
    "name": "ipython",
    "version": 3
   },
   "file_extension": ".py",
   "mimetype": "text/x-python",
   "name": "python",
   "nbconvert_exporter": "python",
   "pygments_lexer": "ipython3",
   "version": "3.6.5"
  }
 },
 "nbformat": 4,
 "nbformat_minor": 2
}
