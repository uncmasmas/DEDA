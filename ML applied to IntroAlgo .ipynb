{
 "cells": [
  {
   "cell_type": "code",
   "execution_count": null,
   "metadata": {
    "ExecuteTime": {
     "end_time": "2019-05-22T17:54:18.812839Z",
     "start_time": "2019-05-22T17:54:17.093452Z"
    }
   },
   "outputs": [],
   "source": [
    "import json\n",
    "import pandas as pd\n",
    "import Levenshtein as lv\n",
    "import numpy as np\n",
    "import os\n",
    "import pickle\n",
    "from tqdm import tqdm\n",
    "from sklearn.linear_model import LogisticRegression, LinearRegression\n",
    "from sklearn.preprocessing import StandardScaler\n",
    "from sklearn.model_selection import train_test_split\n",
    "from sklearn.preprocessing import LabelEncoder, LabelBinarizer\n",
    "from sklearn_pandas import DataFrameMapper\n",
    "from sklearn.compose import ColumnTransformer, make_column_transformer\n",
    "from sklearn.feature_extraction.text import CountVectorizer\n",
    "from sklearn.base import BaseEstimator, TransformerMixin\n",
    "from sklearn.pipeline import Pipeline, FeatureUnion\n",
    "from sklearn.metrics import classification_report, precision_recall_fscore_support, confusion_matrix\n",
    "from sklearn.model_selection import cross_val_score"
   ]
  },
  {
   "cell_type": "code",
   "execution_count": null,
   "metadata": {
    "ExecuteTime": {
     "end_time": "2019-05-22T17:54:18.826399Z",
     "start_time": "2019-05-22T17:54:18.814559Z"
    }
   },
   "outputs": [],
   "source": [
    "def measure_time_distance(timedelta):\n",
    "    \"\"\"\n",
    "    Function that convert timedelta into seconds\n",
    "    \"\"\"\n",
    "    distance = (timedelta.total_seconds())\n",
    "    return distance\n",
    "\n",
    "def measure_text_distance(x,y):\n",
    "    \"\"\"\n",
    "    Function that calculate the Levenshtein distance\n",
    "    between two submissions code.\n",
    "    https://en.wikipedia.org/wiki/Levenshtein_distance\n",
    "    \"\"\"\n",
    "    return lv.distance(x,y)\n",
    "\n",
    "def calculate_distribution(df, column_name, exercise, mean=True):\n",
    "    \"\"\"\n",
    "    df: Dataframe with submissions\n",
    "    column_name: column with status\n",
    "\n",
    "    Function to obtain distribution of submissions status\n",
    "    return metrics and amount of submissions\n",
    "    \"\"\"\n",
    "    total_amount_submissions = df.shape[0]\n",
    "    submissions_grouped = df.groupby([column_name]).size()\n",
    "    metrics = {}\n",
    "    if mean:\n",
    "        metrics = submissions_grouped/total_amount_submissions\n",
    "    else:\n",
    "        metrics = submissions_grouped\n",
    "    metrics['exercise'] = str(exercise)\n",
    "    metrics['submission_amount'] = total_amount_submissions\n",
    "    return metrics\n",
    "\n",
    "def shift_columns(df, shift_exercise=False):\n",
    "    \"\"\"\n",
    "    Function that create 4 new columns\n",
    "    shifted column contains submissions_content shifted to calculate the distance\n",
    "    datetime_shifted contains datetime shifted to calculate the distance between times\n",
    "    \n",
    "    distance, Levenshtein distance between submissions\n",
    "    time_dist, time distance between submissions in seconds\n",
    "    \"\"\"\n",
    "    df.loc[:,'shifted'] = df['submissions_content'].shift().fillna(value='')\n",
    "    df.loc[:,'guide.name.previous'] = df['guide.name'].shift().fillna(value='')\n",
    "    df.loc[:,'datetime_shifted'] = df['datetime'].shift().fillna(value=pd.Timestamp(1800, 1, 1, 0))\n",
    "    df.loc[:,'student.email.previous'] = df['student.email'].shift().fillna(value='')\n",
    "    df['distance'] = df.apply(lambda x : measure_text_distance(x['submissions_content'],x['shifted']), axis=1)\n",
    "    df['time_dist'] = df.apply(lambda x : measure_time_distance(x['datetime']-x['datetime_shifted']), axis=1)\n",
    "    if shift_exercise:\n",
    "        df.loc[:,'exercise.eid.previous'] = df['exercise.eid'].shift().fillna(value='')\n",
    "        df.loc[:,'exercise.name.previous'] = df['exercise.name'].shift().fillna(value='')\n",
    "        df.loc[:,'submissions_status.previous'] = df['submissions_status'].shift().fillna(value='')\n",
    "        df.loc[:,'submissions_count.previous'] = df['submissions_submissions_count'].shift().fillna(value='')\n",
    "        df['switch_exercise'] = df.apply(lambda x : x['exercise.name'] != x['exercise.name.previous'], axis=1)\n",
    "    return df\n"
   ]
  },
  {
   "cell_type": "code",
   "execution_count": null,
   "metadata": {
    "ExecuteTime": {
     "end_time": "2019-01-28T22:05:27.340496Z",
     "start_time": "2019-01-28T22:05:26.212553Z"
    }
   },
   "outputs": [],
   "source": [
    "dataset_home = \"datasets/\"\n",
    "files = [\n",
    "    #'2016-2c-introalgo-2c-2016.json', '2017-2c-introalgo-2c-2017.json',\n",
    "    '2018-2c-introalgo-2018-2c-23Octubre.json',\n",
    "]\n",
    "\n",
    "for file in files:\n",
    "    json_file = open(dataset_home+str(file), encoding='utf8')\n",
    "    json_data = json.load(json_file)\n",
    "    \n",
    "    submissions = pd.io.json.json_normalize(\n",
    "        json_data, 'submissions', [['guide','slug'], ['student','email'],['guide','name'], ['exercise','name'],['exercise','eid'],['guide','language','name']], record_prefix='submissions_', errors='ignore')\n",
    "    submissions['datetime'] = pd.to_datetime(submissions['submissions_created_at'])\n",
    "    submissions = submissions[~submissions['submissions_content'].isnull()]\n",
    "    submissions = submissions[~(submissions['submissions_status']=='aborted')]\n",
    "    #submissions = submissions[~(submissions['submissions_status']=='passed')]\n",
    "    #submissions = submissions[~(submissions['submissions_status']=='passed_with_warnings')]\n",
    "    submissions = submissions[submissions['guide.language.name'] == 'haskell']\n",
    "    submissions = submissions.drop(\n",
    "        submissions[(submissions['exercise.name'] == 'cifrasBinarias') | \n",
    "                    (submissions['exercise.name'] == 'ciclar') | \n",
    "                    (submissions['exercise.name'] == 'cifrasBase')].index)\n",
    "    submissions = submissions.drop(\n",
    "    submissions[(submissions['student.email'] == 'walteralini@gmail.com') |\n",
    "                (submissions['student.email'] == 'romina.altamirano@gmail.com') |\n",
    "                (submissions['student.email'] == 'kouichicruz@gmail.com')].index)\n",
    "    submissions = submissions.drop(\n",
    "        submissions[(submissions['student.email'] == 'ismaelpeker@gmail.com') &\n",
    "                (submissions['submissions_created_at'].str.contains('2017'))].index)"
   ]
  },
  {
   "cell_type": "code",
   "execution_count": null,
   "metadata": {
    "ExecuteTime": {
     "end_time": "2019-01-28T22:05:27.481275Z",
     "start_time": "2019-01-28T22:05:27.468690Z"
    }
   },
   "outputs": [],
   "source": [
    "calculate_distribution(submissions, \"submissions_status\", \"todos\", False)"
   ]
  },
  {
   "cell_type": "code",
   "execution_count": null,
   "metadata": {
    "ExecuteTime": {
     "end_time": "2019-01-28T22:05:30.063735Z",
     "start_time": "2019-01-28T22:05:29.889568Z"
    }
   },
   "outputs": [],
   "source": [
    "exercises_attempted = 0\n",
    "for student in submissions['student.email'].unique():\n",
    "    exercises_attempted += submissions[submissions['student.email'] == student]['exercise.name'].nunique()\n",
    "exercises_attempted"
   ]
  },
  {
   "cell_type": "code",
   "execution_count": null,
   "metadata": {
    "ExecuteTime": {
     "end_time": "2019-01-28T22:05:35.856235Z",
     "start_time": "2019-01-28T22:05:30.533079Z"
    }
   },
   "outputs": [],
   "source": [
    "submissions = submissions.sort_values(['student.email', 'datetime'])\n",
    "submissions = shift_columns(submissions, True)"
   ]
  },
  {
   "cell_type": "markdown",
   "metadata": {
    "ExecuteTime": {
     "end_time": "2019-01-03T18:21:26.655001Z",
     "start_time": "2019-01-03T18:21:26.629120Z"
    }
   },
   "source": [
    "## Abandono por cambio de ejercicio"
   ]
  },
  {
   "cell_type": "code",
   "execution_count": null,
   "metadata": {
    "ExecuteTime": {
     "end_time": "2019-01-28T22:05:35.911165Z",
     "start_time": "2019-01-28T22:05:35.857681Z"
    }
   },
   "outputs": [],
   "source": [
    "submissions[(submissions['switch_exercise']) \n",
    "            & ((submissions['submissions_status.previous'] == 'failed') | (submissions['submissions_status.previous'] == 'errored'))\n",
    "           & (submissions['student.email'] == submissions['student.email.previous'])][\n",
    "    ['exercise.name.previous', 'submissions_status.previous', 'time_dist',\n",
    "     'switch_exercise', 'submissions_status', 'student.email.previous',\n",
    "     'student.email', 'exercise.name', 'datetime','datetime_shifted']].iloc[1:]"
   ]
  },
  {
   "cell_type": "markdown",
   "metadata": {},
   "source": [
    "## Abandono por cambio de Sesion"
   ]
  },
  {
   "cell_type": "code",
   "execution_count": null,
   "metadata": {
    "ExecuteTime": {
     "end_time": "2019-01-28T22:05:35.972268Z",
     "start_time": "2019-01-28T22:05:35.912850Z"
    }
   },
   "outputs": [],
   "source": [
    "threshold = 454\n",
    "submissions[(submissions['switch_exercise'] == False) \n",
    "            & ((submissions['submissions_status.previous'] == 'failed') | (submissions['submissions_status.previous'] == 'errored'))\n",
    "            & (submissions['time_dist'] > threshold)\n",
    "            & (submissions['student.email'] == submissions['student.email.previous'])\n",
    "          ][['exercise.name.previous', 'submissions_status.previous', 'time_dist',\n",
    "     'switch_exercise', 'submissions_status', 'student.email.previous',\n",
    "     'student.email', 'exercise.name', 'datetime']].iloc[1:]"
   ]
  },
  {
   "cell_type": "markdown",
   "metadata": {
    "ExecuteTime": {
     "end_time": "2019-01-03T18:14:23.982144Z",
     "start_time": "2019-01-03T18:14:21.957480Z"
    }
   },
   "source": [
    "## Anoto el dataset\n",
    "En la columna dropout_switch se anota con True los abandonos por cambio de ejercicio\n",
    "En la columna dropout_session se anota con True los abandonos por session"
   ]
  },
  {
   "cell_type": "code",
   "execution_count": null,
   "metadata": {
    "ExecuteTime": {
     "end_time": "2019-01-28T22:05:49.211249Z",
     "start_time": "2019-01-28T22:05:47.371030Z"
    }
   },
   "outputs": [],
   "source": [
    "submissions['dropout_switch'] = submissions.apply(\n",
    "    lambda x: True if (\n",
    "        (x['switch_exercise']) &\n",
    "        ((x['submissions_status.previous'] == 'failed') | (x['submissions_status.previous'] == 'errored')) & \n",
    "        (x['student.email'] == x['student.email.previous'])\n",
    "    ) else False, axis=1)"
   ]
  },
  {
   "cell_type": "code",
   "execution_count": null,
   "metadata": {
    "ExecuteTime": {
     "end_time": "2019-01-28T22:05:51.146156Z",
     "start_time": "2019-01-28T22:05:49.213063Z"
    }
   },
   "outputs": [],
   "source": [
    "submissions['dropout_session'] = submissions.apply(\n",
    "    lambda x: True if(\n",
    "        (x['switch_exercise'] == False)\n",
    "        & ((x['submissions_status.previous'] == 'failed') | (x['submissions_status.previous'] == 'errored'))\n",
    "        & (x['time_dist'] > 454)\n",
    "        & (x['student.email'] == x['student.email.previous'])\n",
    "    ) else False, axis=1)"
   ]
  },
  {
   "cell_type": "code",
   "execution_count": null,
   "metadata": {
    "ExecuteTime": {
     "end_time": "2019-01-28T22:05:55.971342Z",
     "start_time": "2019-01-28T22:05:55.962442Z"
    }
   },
   "outputs": [],
   "source": [
    "df = submissions\n",
    "#df = df[df['student.email'] == df['student.email.previous']]"
   ]
  },
  {
   "cell_type": "markdown",
   "metadata": {},
   "source": [
    "# Anotate dataset 2da forma"
   ]
  },
  {
   "cell_type": "code",
   "execution_count": null,
   "metadata": {
    "ExecuteTime": {
     "end_time": "2019-01-28T22:06:26.245482Z",
     "start_time": "2019-01-28T22:05:56.704989Z"
    }
   },
   "outputs": [],
   "source": [
    "## Only for view\n",
    "#submissions[submissions['dropout_switch']][['student.email', 'student.email.previous', 'switch_exercise', 'submissions_status.previous', 'exercise.name.previous', 'submissions_status', 'exercise.name', 'time_dist']]\n",
    "#submissions[submissions['dropout_session']][['student.email', 'student.email.previous', 'switch_exercise', 'submissions_status.previous', 'exercise.name.previous', 'submissions_status', 'exercise.name', 'time_dist']]\n",
    "test = pd.DataFrame()\n",
    "df['dropout_session_tray'] = False\n",
    "df['dropout_switch_tray'] = False\n",
    "df = df.sort_values(['datetime_shifted', 'student.email.previous'], ascending=False)\n",
    "\n",
    "for student in df['student.email.previous'].unique():\n",
    "    for exercise_name in df[(df['student.email.previous'] == student) & (df['dropout_switch'] | df['dropout_session'])]['exercise.name.previous'].unique():\n",
    "    #for exercise_name in df[(df['student.email.previous'] == student) & ((df['dropout_session']) | (df['dropout_switch']))]['exercise.name.previous'].unique()[:1]:\n",
    "        exer_df = df[(df['exercise.name.previous'] == exercise_name) & (df['student.email.previous'] == student)]\n",
    "        flag_session = False\n",
    "        flag_switch = False\n",
    "        for index, row in df[(df['exercise.name.previous'] == exercise_name) & (df['student.email.previous'] == student)].iterrows():\n",
    "            if (flag_session and not(row['dropout_switch'])):\n",
    "                #exer_df['dropout_session_tray'].iloc[index] = True\n",
    "                df.at[index, 'dropout_session_tray'] = True\n",
    "            if((row['dropout_session'] or flag_session) and not(row['dropout_switch'])):\n",
    "                flag_session = True\n",
    "                #exer_df['dropout_session_tray'].iloc[index] = True\n",
    "                df.at[index, 'dropout_session_tray'] = True\n",
    "            else:\n",
    "                flag_session = False\n",
    "\n",
    "            if (flag_switch and not(row['dropout_session'])):\n",
    "                #exer_df['dropout_switch_tray'].iloc[index] = True\n",
    "                df.at[index, 'dropout_switch_tray'] = True\n",
    "            if ((row['dropout_switch'] or flag_switch) and not(row['dropout_session'])):\n",
    "                flag_switch = True\n",
    "                #exer_df['dropout_switch_tray'].iloc[index] = True\n",
    "                df.at[index, 'dropout_switch_tray'] = True\n",
    "            else:\n",
    "                flag_switch = False\n",
    "        test = test.append(exer_df, ignore_index=True)\n",
    "#df[['switch_exercise', 'dropout_switch', 'dropout_session', 'dropout_session_tray', 'dropout_switch_tray']]"
   ]
  },
  {
   "cell_type": "code",
   "execution_count": null,
   "metadata": {
    "ExecuteTime": {
     "end_time": "2019-01-24T14:38:50.094072Z",
     "start_time": "2019-01-24T14:38:50.064204Z"
    },
    "scrolled": false
   },
   "outputs": [],
   "source": [
    "cant_soluciones = df.shape[0]\n",
    "cant_switch = df[df['dropout_switch']].shape[0]\n",
    "cant_session = df[df['dropout_session']].shape[0]\n",
    "\n",
    "cant_switch_tray = df[df['dropout_switch_tray']].shape[0]\n",
    "cant_session_tray = df[df['dropout_session_tray']].shape[0]\n",
    "\n",
    "print(\"Cantidad submissions {}\".format(cant_soluciones))\n",
    "\n",
    "print(\"1era forma de anotar (solo la ultima submissions)\")\n",
    "print(\"Cantidad de dropout session {}. Proporcion respecto total submissions {:.3f}\".format(cant_session, cant_session/cant_soluciones))\n",
    "print(\"Cantidad de dropout switchs {}. Proporcion respecto total submissions {:.3f} \".format(cant_switch, cant_switch/cant_soluciones))\n",
    "print(\"Considerando ambos tipos como el mismo cantidad {}  proporcion {:.3f}\".format(cant_session + cant_switch,(cant_session + cant_switch)/cant_soluciones))\n",
    "\n",
    "print(\"\\n2da forma de anotar (anoto trayectoria)\")\n",
    "print('Cantidad de dropout session {}. Proporcion respecto total submissions {:.3f}'.format(cant_session_tray, cant_session_tray/cant_soluciones))\n",
    "print('Cantidad de dropout switch {}. Proporcion respecto total submissions {:.3f}'.format(cant_switch_tray, cant_switch_tray/cant_soluciones))\n",
    "print(\"Considerando ambos tipos como el mismo cantidad {}  proporcion {:.3f}\".format(cant_session_tray + cant_switch_tray,(cant_session_tray + cant_switch_tray)/cant_soluciones))\n",
    "\n",
    "\n",
    "#test[test['student.email.previous'] == 'elmaxisantillan@gmail.com'][['student.email.previous','datetime', 'datetime_shifted', 'exercise.name', 'submissions_status', 'exercise.name.previous','submissions_status.previous' ,'time_dist','switch_exercise', 'dropout_switch','dropout_switch_tray', 'dropout_session', 'dropout_session_tray']]"
   ]
  },
  {
   "cell_type": "code",
   "execution_count": null,
   "metadata": {
    "ExecuteTime": {
     "end_time": "2019-01-28T22:09:54.158131Z",
     "start_time": "2019-01-28T22:09:54.142045Z"
    }
   },
   "outputs": [],
   "source": [
    "df.columns"
   ]
  },
  {
   "cell_type": "code",
   "execution_count": null,
   "metadata": {
    "ExecuteTime": {
     "end_time": "2019-01-28T22:10:26.492093Z",
     "start_time": "2019-01-28T22:10:26.427898Z"
    }
   },
   "outputs": [],
   "source": [
    "submissions_df = df[['shifted', 'guide.name.previous', 'datetime_shifted', 'student.email.previous',\n",
    "    'distance', 'time_dist', 'exercise.eid.previous', 'exercise.name.previous',\n",
    "    'submissions_status.previous', 'submissions_count.previous', 'switch_exercise',\n",
    "    'dropout_switch', 'dropout_session', 'dropout_session_tray', 'dropout_switch_tray']]\n",
    "submissions_df = submissions_df.rename(columns={'shifted':'content', 'guide.name.previous':'guide.name', 'datetime_shifted':'datetime', 'student.email.previous': 'student.email',\n",
    "    'exercise.eid.previous' :'exercise.eid', 'exercise.name.previous': 'exercise.name',\n",
    "    'submissions_status.previous':'submissions_status', 'submissions_count.previous':'submissions_count'})\n",
    "submissions_df.to_pickle('introAlgo_final_anotado.pkl')"
   ]
  },
  {
   "cell_type": "markdown",
   "metadata": {},
   "source": [
    "# Dropout Histogram "
   ]
  },
  {
   "cell_type": "code",
   "execution_count": null,
   "metadata": {
    "ExecuteTime": {
     "end_time": "2019-01-24T20:46:09.345238Z",
     "start_time": "2019-01-24T20:46:09.207835Z"
    }
   },
   "outputs": [],
   "source": [
    "dropout_switch_df = submissions_df.groupby(['student.email', 'dropout_switch_tray']).count().reset_index()\n",
    "dropout_switch_df = dropout_switch_df[dropout_switch_df['dropout_switch_tray']].sort_values('content',ascending=False)[['student.email', 'content']]\n",
    "dropout_switch_df.rename(columns={'content': 'dropout_switch_tray'}, inplace=True)\n",
    "dropout_switch_df"
   ]
  },
  {
   "cell_type": "code",
   "execution_count": null,
   "metadata": {
    "ExecuteTime": {
     "end_time": "2019-01-24T18:54:27.462847Z",
     "start_time": "2019-01-24T18:54:27.355385Z"
    }
   },
   "outputs": [],
   "source": [
    "dropout_session_df = submissions_df.groupby(['student.email', 'dropout_session_tray']).count().reset_index()\n",
    "dropout_session_df = dropout_session_df[dropout_session_df['dropout_session_tray']].sort_values('content',ascending=False)[['student.email', 'content']]\n",
    "dropout_session_df.rename(columns={'content': 'dropout_session_tray'}, inplace=True)\n",
    "dropout_session_df"
   ]
  },
  {
   "cell_type": "code",
   "execution_count": null,
   "metadata": {
    "ExecuteTime": {
     "end_time": "2019-01-24T21:08:32.094715Z",
     "start_time": "2019-01-24T21:08:32.078223Z"
    }
   },
   "outputs": [],
   "source": [
    "dropouts_df = pd.merge(dropout_switch_df,dropout_session_df, on='student.email')\n",
    "indexs = np.arange(0,401,20)[::-1]\n",
    "indexs\n",
    "#lst_dropouts_switch = [dropouts_df[dropouts_df['']]]"
   ]
  },
  {
   "cell_type": "markdown",
   "metadata": {},
   "source": [
    "# Split dataset"
   ]
  },
  {
   "cell_type": "code",
   "execution_count": null,
   "metadata": {
    "ExecuteTime": {
     "end_time": "2019-03-13T21:41:38.265223Z",
     "start_time": "2019-03-13T21:41:38.256786Z"
    }
   },
   "outputs": [],
   "source": [
    "base = 'datasets/introalgo/'\n",
    "def train_dev_test(df, proportion=[.8,.9]):\n",
    "    train_df = pd.DataFrame() \n",
    "    dev_df = pd.DataFrame() \n",
    "    test_df = pd.DataFrame() \n",
    "    exercises_names = df['exercise.name'].unique()\n",
    "    for exercise in exercises_names:\n",
    "        df_exer = df[df['exercise.name'] == exercise]\n",
    "        train, dev  = np.split(df_exer.sample(frac=1), [int(.8*len(df_exer))])\n",
    "        #print(train.shape, dev.shape, test.shape, exercise)\n",
    "        train_df = train_df.append(train, ignore_index=True)\n",
    "        dev_df = dev_df.append(dev, ignore_index=True)\n",
    "        #test_df = test_df.append(test, ignore_index=True)\n",
    "    return train_df, dev_df#, test_df"
   ]
  },
  {
   "cell_type": "markdown",
   "metadata": {},
   "source": [
    "### Load dataframe from pickle"
   ]
  },
  {
   "cell_type": "code",
   "execution_count": null,
   "metadata": {
    "ExecuteTime": {
     "end_time": "2019-03-06T18:42:15.446167Z",
     "start_time": "2019-03-06T18:42:15.301331Z"
    }
   },
   "outputs": [],
   "source": [
    "submissions = pd.read_pickle('dataframes_pkl/introAlgo_FINAL_anotado.pkl')\n",
    "#submissions = submissions[~(submissions['student.email'] == 'ramiromariano.lerda@gmail.com')]"
   ]
  },
  {
   "cell_type": "code",
   "execution_count": null,
   "metadata": {
    "ExecuteTime": {
     "end_time": "2019-02-19T17:32:54.287894Z",
     "start_time": "2019-02-19T17:32:54.271061Z"
    }
   },
   "outputs": [],
   "source": [
    "train, dev = train_dev_test(submissions[submissions['exercise.name'] == 'calcular'])\n",
    "#train, dev, test = train_dev_test(submissions)\n",
    "dev.shape"
   ]
  },
  {
   "cell_type": "code",
   "execution_count": null,
   "metadata": {
    "ExecuteTime": {
     "end_time": "2019-01-29T22:52:29.423503Z",
     "start_time": "2019-01-29T22:52:29.379794Z"
    }
   },
   "outputs": [],
   "source": [
    "train.to_pickle(base+'train801010.pkl')\n",
    "dev.to_pickle(base+'dev801010.pkl')\n",
    "test.to_pickle(base+'test801010.pkl')"
   ]
  },
  {
   "cell_type": "markdown",
   "metadata": {},
   "source": [
    "## Load datasets from pickle"
   ]
  },
  {
   "cell_type": "code",
   "execution_count": null,
   "metadata": {
    "ExecuteTime": {
     "end_time": "2019-02-01T17:19:08.922367Z",
     "start_time": "2019-02-01T17:19:08.833378Z"
    }
   },
   "outputs": [],
   "source": [
    "base = 'datasets/introalgo/'\n",
    "train_df = pd.read_pickle(base+'train801010.pkl')\n",
    "dev_df = pd.read_pickle(base+'dev801010.pkl')\n",
    "test_df = pd.read_pickle(base+'test801010.pkl')"
   ]
  },
  {
   "cell_type": "markdown",
   "metadata": {},
   "source": [
    "## Only for test i make new dataset and split this"
   ]
  },
  {
   "cell_type": "code",
   "execution_count": null,
   "metadata": {
    "ExecuteTime": {
     "end_time": "2019-03-13T21:41:03.686647Z",
     "start_time": "2019-03-13T21:41:03.546252Z"
    }
   },
   "outputs": [],
   "source": [
    "#submissions = pd.read_pickle('dataframes_pkl/mumuki_io_FINAL_anotado.pkl')\n",
    "submissions = pd.read_pickle('dataframes_pkl/introAlgo_FINAL_anotado.pkl')"
   ]
  },
  {
   "cell_type": "markdown",
   "metadata": {},
   "source": [
    "# Expertise Dimension\n",
    "## PSA and PCA calculate"
   ]
  },
  {
   "cell_type": "code",
   "execution_count": null,
   "metadata": {
    "ExecuteTime": {
     "end_time": "2019-02-06T12:42:06.662800Z",
     "start_time": "2019-02-06T12:41:54.949033Z"
    }
   },
   "outputs": [],
   "source": [
    "submissions['PSA'] = 0\n",
    "submissions['PCA'] = 0\n",
    "students = submissions['student.email'].unique()\n",
    "for student in tqdm(students, desc='students'):\n",
    "    #calculo ejercicios terminados en verde para calcular promedio sin aplazos\n",
    "    exercises_passed = submissions[(submissions['student.email'] == student) & (submissions['submissions_status'] == 'passed')]['exercise.name'].unique()\n",
    "    #cantidad de ejercicios pasados\n",
    "    amount_exer_passed = len(exercises_passed)\n",
    "    #cantidad de soluciones enviadas por estudiante\n",
    "    amount_submissions = submissions[submissions['student.email'] == student].shape[0]\n",
    "    #cantidad de ejercicios intentados\n",
    "    amount_exercises_attempted = submissions[submissions['student.email'] == student]['exercise.name'].nunique()\n",
    "    cant_sol_acum = 0\n",
    "    for exercise in exercises_passed:\n",
    "        cant_soluciones = submissions[(submissions['student.email'] == student) & (submissions['exercise.name'] == exercise)].shape[0]\n",
    "        cant_sol_acum += cant_soluciones\n",
    "    if cant_sol_acum > 0:\n",
    "        submissions.loc[submissions['student.email'] == student, ['PSA']] = amount_exer_passed / cant_sol_acum\n",
    "    if amount_submissions > 0:\n",
    "        submissions.loc[submissions['student.email'] == student, ['PCA']] = amount_exercises_attempted / amount_submissions"
   ]
  },
  {
   "cell_type": "markdown",
   "metadata": {},
   "source": [
    "# PCA Mejorado\n",
    "\n",
    "Ejercicios no pasados (Enp): $Enp = Ei - Ec$\n",
    "\n",
    "Soluciones no exitosas (Sne): Sean $\\left \\{  s_{1}, .. ,s_{n}\\right \\}$ la cantidad soluciones enviadas por el mismo usuario para los ejercicios {{e_{1}, .. , e_{m}} cuya finalización no fue exitosa.\n",
    "\n",
    "Promedio de error (Pde): $\\frac{Enp} {\\sum({s_1{}, .., s_{m}})} $\n",
    "Luego de haber realizado estas definiciones podemos definir al promedio con aplazos mejorado de la siguiente forma\n",
    "$$PCAM = PSA - (1 - Pde)$$\n",
    "\n"
   ]
  },
  {
   "cell_type": "code",
   "execution_count": null,
   "metadata": {
    "ExecuteTime": {
     "end_time": "2019-02-06T14:59:18.489486Z",
     "start_time": "2019-02-06T14:59:16.237751Z"
    }
   },
   "outputs": [],
   "source": [
    "submissions['PCAM'] = 0\n",
    "students = submissions['student.email'].unique()\n",
    "for student in tqdm(students, desc='students'):\n",
    "    psa_student = submissions[(submissions['student.email'] == student)]['PSA'].values[0]\n",
    "    amount_submissions_not_passed = 0\n",
    "    exercises_attempted = set(submissions[submissions['student.email'] == student]['exercise.name'].unique())\n",
    "    exercises_passed = set(submissions[\n",
    "        (submissions['student.email'] == student) & (submissions['submissions_status'] == 'passed')]['exercise.name'].unique())\n",
    "    exercises_not_passed = list(exercises_attempted.difference(exercises_passed))\n",
    "    for exercise in exercises_not_passed:\n",
    "        amount_submissions_not_passed += submissions[\n",
    "            (submissions['exercise.name'] == exercise) & (submissions['student.email'] == student)].shape[0]\n",
    "    try:\n",
    "        promedio_de_error = len(exercises_not_passed) / amount_submissions_not_passed\n",
    "    except:\n",
    "        promedio_de_error = 1\n",
    "    pcam = (1 - promedio_de_error) - psa_student\n",
    "    if pcam < 0:\n",
    "        pcam = 0\n",
    "    submissions.loc[submissions['student.email'] == student, ['PCAM']] = pcam\n"
   ]
  },
  {
   "cell_type": "markdown",
   "metadata": {},
   "source": [
    "# Dropout Dimension\n",
    "## Dropout proportion / proporcion de abandonos"
   ]
  },
  {
   "cell_type": "code",
   "execution_count": null,
   "metadata": {
    "ExecuteTime": {
     "end_time": "2019-02-06T12:42:10.276665Z",
     "start_time": "2019-02-06T12:42:08.822786Z"
    }
   },
   "outputs": [],
   "source": [
    "submissions['PA'] = 0\n",
    "submissions['EA'] = 0\n",
    "students = submissions['student.email'].unique()\n",
    "for student in tqdm(students, desc='students'):\n",
    "    #cantidad de soluciones marcadas como abandono\n",
    "    dropout_amount = submissions[(submissions['student.email'] == student) & (submissions['dropout_tray'])].shape[0]\n",
    "    #cantidad de soluciones del estudiante\n",
    "    amount_submissions = submissions[(submissions['student.email'] == student)].shape[0]\n",
    "    \n",
    "    #cantidad de ejercicios abandonados\n",
    "    exercises_dropped = submissions[(submissions['student.email'] == student) & (submissions['dropout'])]['exercise.name'].nunique()\n",
    "    #cantidad de ejercicios intentados\n",
    "    exercises_attempted = submissions[submissions['student.email'] == student]['exercise.name'].nunique()\n",
    "    \n",
    "    #Proporcion de ejercicios abandonados\n",
    "    submissions.loc[submissions['student.email'] == student, ['EA']] = exercises_dropped / exercises_attempted\n",
    "    \n",
    "    #proporcion de soluciones marcadas como abandono\n",
    "    submissions.loc[submissions['student.email'] == student, ['PA']] = dropout_amount / amount_submissions\n",
    "    "
   ]
  },
  {
   "cell_type": "markdown",
   "metadata": {},
   "source": [
    "### Proporcion Ponderada de Abandono (PPA)\n",
    "Sean $\\left \\{  e_{1}, .. ,e_{n}\\right \\}$ los ejercicios abandonados por un estudiante x, es decir aquellos ejercicios con al menos una solución marcada como abandono. Sean $\\left \\{a_{1}e_{1},.,a_{m}e_{n}\\right \\}$ la cantidad de soluciones consideradas como abandono por ejercicio y sean $\\left \\{s_{1}e_{1},.., s_{n}e_{m}\\right \\}$ la cantidad total de soluciones por ejercicio. Definimos esta métrica como: \n",
    "$$ \\frac {\\sum(\\frac{a_{1}e_{1}} {s_{1}e_{1}},..,\\frac{a_{n}e_{n}} {s_{n}e_{n}})} {n} $$\n"
   ]
  },
  {
   "cell_type": "code",
   "execution_count": null,
   "metadata": {
    "ExecuteTime": {
     "end_time": "2019-02-06T12:42:16.798501Z",
     "start_time": "2019-02-06T12:42:10.279348Z"
    }
   },
   "outputs": [],
   "source": [
    "submissions['PPA'] = 0\n",
    "students = submissions['student.email'].unique()\n",
    "for student in tqdm(students):\n",
    "    exercises_dropped_out = submissions[(submissions['dropout']) & (submissions['student.email'] == student)]['exercise.name'].unique()\n",
    "    amount_exercises_dropped_out = len(exercises_dropped_out)\n",
    "    acumulator = 0\n",
    "    for exercise in exercises_dropped_out:\n",
    "        submissions_amount_exer = submissions[(submissions['exercise.name'] == exercise) & (submissions['student.email'] == student)].shape[0]\n",
    "        submission_dropped = submissions[(submissions['exercise.name'] == exercise) & (submissions['student.email'] == student) & (submissions['dropout_tray'])].shape[0]\n",
    "        acumulator += submission_dropped / submissions_amount_exer\n",
    "    if amount_exercises_dropped_out == 0:\n",
    "        wn = 0\n",
    "    else:\n",
    "        wn = acumulator / amount_exercises_dropped_out\n",
    "    submissions.loc[submissions['student.email'] == student, ['PPA']] = wn"
   ]
  },
  {
   "cell_type": "markdown",
   "metadata": {},
   "source": [
    "# Nivel Intensidad\n",
    "- Promedio de tiempo entre soluciones (PTT)\n",
    "- Promedio de distancia de edición entre soluciones (PDL)"
   ]
  },
  {
   "cell_type": "code",
   "execution_count": null,
   "metadata": {
    "ExecuteTime": {
     "end_time": "2019-02-06T12:42:17.996299Z",
     "start_time": "2019-02-06T12:42:16.801043Z"
    }
   },
   "outputs": [],
   "source": [
    "submissions['PTT'] = 0\n",
    "submissions['PDL'] = 0\n",
    "students = submissions['student.email'].unique()\n",
    "for student in tqdm(students):\n",
    "    ptt = submissions[(submissions['student.email'] == student) &\n",
    "            (submissions['time_dist'] <= 454) & (submissions['time_dist'] >0)]['time_dist'].mean()\n",
    "    pdl = submissions[(submissions['student.email'] == student) & (submissions['switch_exercise'] == False)]['distance'].mean()\n",
    "    submissions.loc[submissions['student.email'] == student, ['PTT']] = ptt\n",
    "    submissions.loc[submissions['student.email'] == student, ['PDL']] = pdl"
   ]
  },
  {
   "cell_type": "markdown",
   "metadata": {},
   "source": [
    "# Insistencia ponderada por abandono (IPA)\n",
    "Con el objetivo de intentar capturar cuán insistente es el estudiante x cada vez que comienza a resolver un ejercicio construimos la siguiente característica. Sean  $\\left \\{  e_{1}, .. ,e_{n}\\right \\}$ los ejercicios que intento resolver un estudiante x. Sean,  $\\left \\{ t_{1}, .. ,t_{m}\\right \\}$ la cantidad de veces que hayan terminando en estado de finalización (exitoso o abandono) para cada ejercicio. Sean  $\\left \\{  s_{1}, .. ,s_{l}\\right \\}$ la cantidad de soluciones realizadas por cada vez que intento resolverlo llegando a ese estado de finalización por ejercicio. Definimos nuestra métrica como:\n",
    "$$ \\frac{\\sum{\\frac{t_{1}}{s_{1}} .... \\frac{t_{m}} {s_{l}}}}{n} $$ "
   ]
  },
  {
   "cell_type": "code",
   "execution_count": null,
   "metadata": {
    "ExecuteTime": {
     "end_time": "2019-02-06T12:42:33.668511Z",
     "start_time": "2019-02-06T12:42:17.998612Z"
    }
   },
   "outputs": [],
   "source": [
    "submissions['IPA'] = 0\n",
    "students = submissions['student.email'].unique()\n",
    "for student in tqdm(students):\n",
    "    exercises_attempted = submissions[(submissions['student.email'] == student)]['exercise.name'].unique()\n",
    "    acumulator = 0\n",
    "    for exercise in exercises_attempted:\n",
    "        exer_df = submissions[(submissions['student.email'] == student) & (submissions['exercise.name'] == exercise)]\n",
    "        amount_dropouts = exer_df[exer_df['dropout']].shape[0]\n",
    "        passed_amount = exer_df[exer_df['submissions_status'] == 'passed'].shape[0]\n",
    "        if passed_amount > 0:\n",
    "            total_attempt = amount_dropouts + 1\n",
    "        else:\n",
    "            total_attempt = amount_dropouts\n",
    "        submissions_by_exer = exer_df.shape[0]\n",
    "        acumulator += total_attempt / submissions_by_exer\n",
    "        #print('student {} exercise {}'.format(student, exercise))\n",
    "        #print('attempts {} submission by exer {} acumulator {} \\n'.format(total_attempt, submissions_by_exer, acumulator))\n",
    "    wn = acumulator / len(exercises_attempted)\n",
    "    #print('================= {} ============='.format(wn))\n",
    "    submissions.loc[submissions['student.email'] == student, ['IPA']] = wn\n",
    "    "
   ]
  },
  {
   "cell_type": "markdown",
   "metadata": {},
   "source": [
    "# Dimension Ejercicio\n",
    "## Dificultad"
   ]
  },
  {
   "cell_type": "markdown",
   "metadata": {},
   "source": [
    "### Promedio de cantidad soluciones para aprobar(PCSA)"
   ]
  },
  {
   "cell_type": "code",
   "execution_count": null,
   "metadata": {
    "ExecuteTime": {
     "end_time": "2019-02-06T12:42:34.285105Z",
     "start_time": "2019-02-06T12:42:33.671170Z"
    }
   },
   "outputs": [],
   "source": [
    "submissions['PCSA'] = 0\n",
    "exercises = submissions['exercise.name'].unique()\n",
    "for exercise in exercises:\n",
    "    submissions.loc[submissions['exercise.name'] == exercise, ['PCSA']] = submissions[\n",
    "        (submissions['exercise.name'] == exercise) & (submissions['submissions_status'] == 'passed')]['submissions_count'].mean()"
   ]
  },
  {
   "cell_type": "markdown",
   "metadata": {},
   "source": [
    "### Cantidad de abandonos por ejercicio (APE)"
   ]
  },
  {
   "cell_type": "code",
   "execution_count": null,
   "metadata": {
    "ExecuteTime": {
     "end_time": "2019-02-06T12:42:34.772932Z",
     "start_time": "2019-02-06T12:42:34.286843Z"
    }
   },
   "outputs": [],
   "source": [
    "submissions['APE'] = 0\n",
    "exercises = submissions['exercise.name'].unique()\n",
    "for exercise in exercises:\n",
    "    exer_df = submissions[submissions['exercise.name'] == exercise]\n",
    "    submissions_amount = exer_df.shape[0]\n",
    "    dropout_amount = exer_df[exer_df['dropout_tray']].shape[0]\n",
    "    submissions.loc[submissions['exercise.name'] == exercise, ['APE']] = dropout_amount/submissions_amount"
   ]
  },
  {
   "cell_type": "markdown",
   "metadata": {},
   "source": [
    "### Cantidad de Abandonos por estudiante (CAPE)\n",
    "Cantidad de Abandonos por estudiante: número de estudiantes que abandonaron el ejercicio / cantidad de soluciones marcadas como abandono."
   ]
  },
  {
   "cell_type": "code",
   "execution_count": null,
   "metadata": {
    "ExecuteTime": {
     "end_time": "2019-02-06T12:42:39.388507Z",
     "start_time": "2019-02-06T12:42:38.983242Z"
    }
   },
   "outputs": [],
   "source": [
    "submissions['CAPE'] = 0\n",
    "exercises = submissions['exercise.name'].unique()\n",
    "for exercise in exercises:\n",
    "    exer_df = submissions[submissions['exercise.name'] == exercise]\n",
    "    students_attempted = exer_df['student.email'].unique()\n",
    "    dropout_amount = exer_df['dropout_tray'].shape[0]\n",
    "    if dropout_amount > 0:\n",
    "        cape = len(students_attempted) / dropout_amount\n",
    "    else:\n",
    "        cape = 0\n",
    "    submissions.loc[submissions['exercise.name'] == exercise, ['CAPE']] = cape"
   ]
  },
  {
   "cell_type": "markdown",
   "metadata": {},
   "source": [
    "### Completitud (COMP)"
   ]
  },
  {
   "cell_type": "code",
   "execution_count": null,
   "metadata": {
    "ExecuteTime": {
     "end_time": "2019-02-06T12:42:40.563450Z",
     "start_time": "2019-02-06T12:42:40.101073Z"
    }
   },
   "outputs": [],
   "source": [
    "submissions['COMP'] = 0\n",
    "exercises = submissions['exercise.name'].unique()\n",
    "for exercise in exercises:\n",
    "    exer_df = submissions[submissions['exercise.name'] == exercise]\n",
    "    students_attempted = exer_df['student.email'].nunique()\n",
    "    passed_submissions = exer_df[exer_df['submissions_status'] == 'passed'].shape[0]\n",
    "    submissions.loc[submissions['exercise.name'] == exercise, ['COMP']] = passed_submissions / students_attempted"
   ]
  },
  {
   "cell_type": "markdown",
   "metadata": {},
   "source": [
    "## Train set"
   ]
  },
  {
   "cell_type": "code",
   "execution_count": null,
   "metadata": {
    "ExecuteTime": {
     "end_time": "2019-02-12T22:20:07.702621Z",
     "start_time": "2019-02-12T22:20:06.418508Z"
    }
   },
   "outputs": [],
   "source": [
    "submissions['length'] = 0\n",
    "submissions['length'] = submissions.apply(lambda x: len(x['content']), axis=1)"
   ]
  },
  {
   "cell_type": "code",
   "execution_count": null,
   "metadata": {
    "ExecuteTime": {
     "end_time": "2019-02-12T22:22:21.840283Z",
     "start_time": "2019-02-12T22:22:21.803681Z"
    }
   },
   "outputs": [],
   "source": [
    "submissions.sort_values('length', ascending=False)['length']\n",
    "#print(submissions[submissions['length'] == 586]['content'][13957])"
   ]
  },
  {
   "cell_type": "code",
   "execution_count": null,
   "metadata": {
    "ExecuteTime": {
     "end_time": "2019-03-13T22:31:18.562155Z",
     "start_time": "2019-03-13T22:31:18.319834Z"
    }
   },
   "outputs": [],
   "source": [
    "submissions = pd.read_pickle('dataframes_pkl/mumuki_io_FINAL_anotado.pkl')\n",
    "#submissions = pd.read_pickle('dataframes_pkl/introAlgo_FINAL_anotado.pkl')\n",
    "submissions['PTT'].fillna(value=0, inplace=True)\n",
    "submissions['PDL'].fillna(value=0, inplace=True)\n",
    "\n"
   ]
  },
  {
   "cell_type": "code",
   "execution_count": null,
   "metadata": {
    "ExecuteTime": {
     "end_time": "2019-03-13T22:31:18.568711Z",
     "start_time": "2019-03-13T22:31:18.564335Z"
    }
   },
   "outputs": [],
   "source": [
    "submissions.columns"
   ]
  },
  {
   "cell_type": "code",
   "execution_count": null,
   "metadata": {
    "ExecuteTime": {
     "end_time": "2019-03-13T22:31:37.929333Z",
     "start_time": "2019-03-13T22:31:18.746747Z"
    }
   },
   "outputs": [],
   "source": [
    "train_df, test_df= train_dev_test(submissions)"
   ]
  },
  {
   "cell_type": "code",
   "execution_count": null,
   "metadata": {
    "ExecuteTime": {
     "end_time": "2019-03-13T22:31:38.176703Z",
     "start_time": "2019-03-13T22:31:37.931989Z"
    }
   },
   "outputs": [],
   "source": [
    "features = ['content', 'submissions_count','time_dist', 'distance', 'PA', 'EA','PCA','PSA','PCAM', 'PPA', 'PTT','PDL', 'IPA', 'PCSA', 'APE', 'CAPE', 'COMP','exercise.eid']\n",
    "target = 'dropout_tray'\n",
    "X_train = train_df[features]\n",
    "Y_train = train_df[target]"
   ]
  },
  {
   "cell_type": "code",
   "execution_count": null,
   "metadata": {
    "ExecuteTime": {
     "end_time": "2019-03-13T22:31:38.259548Z",
     "start_time": "2019-03-13T22:31:38.178903Z"
    }
   },
   "outputs": [],
   "source": [
    "X_test = test_df[features]\n",
    "Y_test = test_df[target] "
   ]
  },
  {
   "cell_type": "markdown",
   "metadata": {},
   "source": [
    "## dev Set"
   ]
  },
  {
   "cell_type": "markdown",
   "metadata": {},
   "source": [
    "# Probando con DataFrameMapper"
   ]
  },
  {
   "cell_type": "code",
   "execution_count": null,
   "metadata": {
    "ExecuteTime": {
     "end_time": "2019-03-13T22:31:38.891068Z",
     "start_time": "2019-03-13T22:31:38.261733Z"
    }
   },
   "outputs": [],
   "source": [
    "mapper = DataFrameMapper([\n",
    "    #('content', CountVectorizer()),\n",
    "    (['submissions_count'], None),\n",
    "    (['PA','APE'], None),\n",
    " ])\n",
    "mapper.fit_transform(X_train)\n",
    "pipe2 = Pipeline([\n",
    "    ('mapper', mapper),\n",
    "    ('classifier', LogisticRegression(C=1,penalty='l2', solver='liblinear',tol=1e-6, class_weight='balanced',\n",
    "                         max_iter=int(1e6), warm_start=True, verbose=3))\n",
    "])\n",
    "\n",
    "from timeit import default_timer as timer\n",
    "\n",
    "start = timer()\n",
    "pipe2.fit(X_train, Y_train)\n",
    "end = timer()\n",
    "print(end - start)\n"
   ]
  },
  {
   "cell_type": "code",
   "execution_count": null,
   "metadata": {
    "ExecuteTime": {
     "end_time": "2019-03-13T22:31:38.990816Z",
     "start_time": "2019-03-13T22:31:38.893122Z"
    },
    "scrolled": false
   },
   "outputs": [],
   "source": [
    "from timeit import default_timer as timer\n",
    "\n",
    "start = timer()\n",
    "preds = pipe2.predict(X_test)\n",
    "end = timer()\n",
    "print(end - start) # Time in seconds, e.g. 5.38091952400282\n",
    "\n",
    "report = classification_report(Y_test, preds, digits=4)\n",
    "cm = confusion_matrix(Y_test, preds)\n",
    "print(report)\n",
    "p, r, f1, s = precision_recall_fscore_support(preds, Y_test, average='weighted')\n",
    "print(p, r, f1, s)"
   ]
  },
  {
   "cell_type": "code",
   "execution_count": null,
   "metadata": {
    "ExecuteTime": {
     "end_time": "2019-03-13T22:31:39.002519Z",
     "start_time": "2019-03-13T22:31:38.993865Z"
    }
   },
   "outputs": [],
   "source": [
    "X_test.shape"
   ]
  },
  {
   "cell_type": "code",
   "execution_count": null,
   "metadata": {
    "ExecuteTime": {
     "end_time": "2019-03-13T22:31:39.039686Z",
     "start_time": "2019-03-13T22:31:39.004713Z"
    }
   },
   "outputs": [],
   "source": [
    "X_all = submissions[features]\n",
    "Y_all = submissions[target]"
   ]
  },
  {
   "cell_type": "code",
   "execution_count": null,
   "metadata": {
    "ExecuteTime": {
     "end_time": "2019-03-13T22:31:45.915231Z",
     "start_time": "2019-03-13T22:31:39.041586Z"
    },
    "scrolled": true
   },
   "outputs": [],
   "source": [
    "from sklearn import metrics\n",
    "scores = cross_val_score(pipe2, X_all, Y_all, cv=10, n_jobs=-1,  scoring='f1_weighted')\n",
    "#scores_test = cross_val_score(pipe_dummy, X_all, Y_all, cv=10, scoring='f1_weighted')\n",
    "print(\"10-fold-cross-validation {}\".format(np.array(scores).mean()))\n",
    "#print(\"10-fodl-cross-validation {}\".format(np.array(scores_test).mean()))"
   ]
  },
  {
   "cell_type": "code",
   "execution_count": null,
   "metadata": {},
   "outputs": [],
   "source": []
  },
  {
   "cell_type": "code",
   "execution_count": null,
   "metadata": {
    "ExecuteTime": {
     "end_time": "2019-03-06T18:40:24.705467Z",
     "start_time": "2019-03-06T18:40:21.904044Z"
    }
   },
   "outputs": [],
   "source": [
    "from sklearn.dummy import DummyClassifier"
   ]
  },
  {
   "cell_type": "code",
   "execution_count": null,
   "metadata": {
    "ExecuteTime": {
     "end_time": "2019-03-06T18:43:19.521417Z",
     "start_time": "2019-03-06T18:43:19.514237Z"
    }
   },
   "outputs": [],
   "source": [
    "pipe_dummy = Pipeline([\n",
    "    ('mapper', mapper),\n",
    "    ('classifier', DummyClassifier())\n",
    "])\n"
   ]
  },
  {
   "cell_type": "code",
   "execution_count": null,
   "metadata": {
    "ExecuteTime": {
     "end_time": "2019-03-06T18:43:21.978276Z",
     "start_time": "2019-03-06T18:43:21.966470Z"
    }
   },
   "outputs": [],
   "source": [
    "pipe_dummy.fit(X_train, Y_train)"
   ]
  },
  {
   "cell_type": "code",
   "execution_count": null,
   "metadata": {
    "ExecuteTime": {
     "end_time": "2019-03-13T21:42:53.008788Z",
     "start_time": "2019-03-13T21:42:52.991979Z"
    }
   },
   "outputs": [],
   "source": [
    "preds = pipe_dummy.predict(X_test)\n",
    "p, r, f1, s = precision_recall_fscore_support(preds, Y_test, average='weighted')\n",
    "print(p, r, f1, s)\n",
    "print(classification_report(Y_test, preds, digits=4))"
   ]
  },
  {
   "cell_type": "code",
   "execution_count": null,
   "metadata": {
    "ExecuteTime": {
     "end_time": "2019-02-15T20:06:00.166295Z",
     "start_time": "2019-02-15T20:06:00.147561Z"
    }
   },
   "outputs": [],
   "source": [
    "submissions[submissions['dropout_tray']].shape[0] / submissions.shape[0]"
   ]
  }
 ],
 "metadata": {
  "kernelspec": {
   "display_name": "Python 3",
   "language": "python",
   "name": "python3"
  },
  "language_info": {
   "codemirror_mode": {
    "name": "ipython",
    "version": 3
   },
   "file_extension": ".py",
   "mimetype": "text/x-python",
   "name": "python",
   "nbconvert_exporter": "python",
   "pygments_lexer": "ipython3",
   "version": "3.6.5"
  }
 },
 "nbformat": 4,
 "nbformat_minor": 2
}
