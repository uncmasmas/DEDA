{
 "cells": [
  {
   "cell_type": "code",
   "execution_count": 7,
   "metadata": {},
   "outputs": [],
   "source": [
    "import pandas as pd\n",
    "import os\n",
    "import numpy as np\n",
    "import json"
   ]
  },
  {
   "cell_type": "code",
   "execution_count": 5,
   "metadata": {},
   "outputs": [
    {
     "data": {
      "text/html": [
       "<div>\n",
       "<style scoped>\n",
       "    .dataframe tbody tr th:only-of-type {\n",
       "        vertical-align: middle;\n",
       "    }\n",
       "\n",
       "    .dataframe tbody tr th {\n",
       "        vertical-align: top;\n",
       "    }\n",
       "\n",
       "    .dataframe thead th {\n",
       "        text-align: right;\n",
       "    }\n",
       "</style>\n",
       "<table border=\"1\" class=\"dataframe\">\n",
       "  <thead>\n",
       "    <tr style=\"text-align: right;\">\n",
       "      <th></th>\n",
       "      <th>submissions_content</th>\n",
       "      <th>submissions_created_at</th>\n",
       "      <th>submissions_expectation_results</th>\n",
       "      <th>submissions_feedback</th>\n",
       "      <th>submissions_result</th>\n",
       "      <th>submissions_sid</th>\n",
       "      <th>submissions_status</th>\n",
       "      <th>submissions_submissions_count</th>\n",
       "      <th>submissions_test_results</th>\n",
       "      <th>course</th>\n",
       "      <th>guide.language.name</th>\n",
       "    </tr>\n",
       "  </thead>\n",
       "  <tbody>\n",
       "    <tr>\n",
       "      <th>0</th>\n",
       "      <td>//enviale mensajes a pepita acá, uno por línea...</td>\n",
       "      <td>{'$date': 1491229837553}</td>\n",
       "      <td>[]</td>\n",
       "      <td></td>\n",
       "      <td>ERROR: missing EOF at 'pepita'</td>\n",
       "      <td>00e877dd4adaa733</td>\n",
       "      <td>errored</td>\n",
       "      <td>0</td>\n",
       "      <td>[]</td>\n",
       "      <td>algo1-unsam/2017-1c-unico</td>\n",
       "      <td>wollok</td>\n",
       "    </tr>\n",
       "    <tr>\n",
       "      <th>1</th>\n",
       "      <td>//enviale mensajes a pepita acá, uno por línea...</td>\n",
       "      <td>{'$date': 1491229858100}</td>\n",
       "      <td>[]</td>\n",
       "      <td></td>\n",
       "      <td></td>\n",
       "      <td>0986bb51b0bc2abd</td>\n",
       "      <td>failed</td>\n",
       "      <td>1</td>\n",
       "      <td>[{'title': 'pepita queda en 150', 'status': 'f...</td>\n",
       "      <td>algo1-unsam/2017-1c-unico</td>\n",
       "      <td>wollok</td>\n",
       "    </tr>\n",
       "    <tr>\n",
       "      <th>2</th>\n",
       "      <td>//enviale mensajes a pepita acá, uno por línea...</td>\n",
       "      <td>{'$date': 1491229884486}</td>\n",
       "      <td>[]</td>\n",
       "      <td></td>\n",
       "      <td></td>\n",
       "      <td>6cc9420dc05b6485</td>\n",
       "      <td>passed</td>\n",
       "      <td>2</td>\n",
       "      <td>[{'title': 'pepita queda en 150', 'status': 'p...</td>\n",
       "      <td>algo1-unsam/2017-1c-unico</td>\n",
       "      <td>wollok</td>\n",
       "    </tr>\n",
       "  </tbody>\n",
       "</table>\n",
       "</div>"
      ],
      "text/plain": [
       "                                 submissions_content  \\\n",
       "0  //enviale mensajes a pepita acá, uno por línea...   \n",
       "1  //enviale mensajes a pepita acá, uno por línea...   \n",
       "2  //enviale mensajes a pepita acá, uno por línea...   \n",
       "\n",
       "     submissions_created_at submissions_expectation_results  \\\n",
       "0  {'$date': 1491229837553}                              []   \n",
       "1  {'$date': 1491229858100}                              []   \n",
       "2  {'$date': 1491229884486}                              []   \n",
       "\n",
       "  submissions_feedback              submissions_result   submissions_sid  \\\n",
       "0                       ERROR: missing EOF at 'pepita'  00e877dd4adaa733   \n",
       "1                                                       0986bb51b0bc2abd   \n",
       "2                                                       6cc9420dc05b6485   \n",
       "\n",
       "  submissions_status  submissions_submissions_count  \\\n",
       "0            errored                              0   \n",
       "1             failed                              1   \n",
       "2             passed                              2   \n",
       "\n",
       "                            submissions_test_results  \\\n",
       "0                                                 []   \n",
       "1  [{'title': 'pepita queda en 150', 'status': 'f...   \n",
       "2  [{'title': 'pepita queda en 150', 'status': 'p...   \n",
       "\n",
       "                      course guide.language.name  \n",
       "0  algo1-unsam/2017-1c-unico              wollok  \n",
       "1  algo1-unsam/2017-1c-unico              wollok  \n",
       "2  algo1-unsam/2017-1c-unico              wollok  "
      ]
     },
     "execution_count": 5,
     "metadata": {},
     "output_type": "execute_result"
    }
   ],
   "source": [
    "dataset_home = 'datasets/courses/'\n",
    "json_file = open(os.path.join(dataset_home, 'test.json'), encoding='utf8')\n",
    "json_data = json.load(json_file)\n",
    "\n",
    "df_2 = pd.DataFrame()\n",
    "df_2 = pd.io.json.json_normalize(\n",
    "    json_data, 'submissions', ['course',['guide','language','name']], record_prefix='submissions_')\n",
    "\n",
    "df_2"
   ]
  },
  {
   "cell_type": "code",
   "execution_count": 8,
   "metadata": {},
   "outputs": [],
   "source": [
    "dataset_home = 'datasets/courses/'\n",
    "\n",
    "first_exp = ['introalgo-unc_2016-2c-introalgo-2c-2016.json', 'introalgo-unc_2017-2c-introalgo-2c-2017.json', 'introalgo-unc-1c-2017_2017-1c-introalgo-1c-2017.json']\n",
    "have_exp = ['pdep-utn-frd_paradigmas-2016.json']\n",
    "\n",
    "first_exp_sub = pd.DataFrame()\n",
    "for course in first_exp:\n",
    "    json_file = open(os.path.join(dataset_home, course), encoding='utf8')\n",
    "    json_data = json.load(json_file)\n",
    "    first_exp_sub = pd.io.json.json_normalize(\n",
    "        json_data, 'submissions', ['course',['guide','language','name']], record_prefix='submissions_')\n",
    "\n",
    "have_exp_sub = pd.DataFrame()\n",
    "for course in have_exp:\n",
    "    json_file = open(os.path.join(dataset_home, course), encoding='utf8')\n",
    "    json_data = json.load(json_file)\n",
    "    have_exp_sub = pd.io.json.json_normalize(\n",
    "        json_data, 'submissions', ['course',['guide','language','name']], record_prefix='submissions_')"
   ]
  },
  {
   "cell_type": "code",
   "execution_count": 9,
   "metadata": {},
   "outputs": [],
   "source": [
    "def get_metrics(input_df):\n",
    "    metrics = {}\n",
    "    total_amount_submissions = input_df.shape[0]\n",
    "    submissions_grouped = input_df.groupby(['submissions_status']).size()\n",
    "    metrics = submissions_grouped / total_amount_submissions\n",
    "    return (metrics, total_amount_submissions)"
   ]
  },
  {
   "cell_type": "code",
   "execution_count": 10,
   "metadata": {},
   "outputs": [],
   "source": [
    "have_exp_sub = have_exp_sub[~(have_exp_sub['submissions_status'] == 'aborted')]\n",
    "have_exp_sub = have_exp_sub[~(have_exp_sub['submissions_status'] == 'pending')]\n",
    "\n",
    "first_exp_sub = first_exp_sub[~(first_exp_sub['submissions_status'] == 'aborted')]\n",
    "first_exp_sub = first_exp_sub[~(first_exp_sub['submissions_status'] == 'pending')]"
   ]
  },
  {
   "cell_type": "code",
   "execution_count": 11,
   "metadata": {},
   "outputs": [],
   "source": [
    "metrics_exp, amount_exp = get_metrics(have_exp_sub[have_exp_sub['guide.language.name'] == 'haskell'])\n",
    "metrics_first, amount_first = get_metrics(first_exp_sub[first_exp_sub['guide.language.name'] == 'haskell'])"
   ]
  },
  {
   "cell_type": "markdown",
   "metadata": {},
   "source": [
    "# Metrics IntroAlgo (without exp)"
   ]
  },
  {
   "cell_type": "code",
   "execution_count": 17,
   "metadata": {},
   "outputs": [
    {
     "name": "stdout",
     "output_type": "stream",
     "text": [
      "submissions_status\n",
      "errored                 0.371419\n",
      "failed                  0.337046\n",
      "passed                  0.230426\n",
      "passed_with_warnings    0.061108\n",
      "dtype: float64 3142\n",
      "Submissions amount 3144\n"
     ]
    }
   ],
   "source": [
    "print(metrics_first, amount_first)\n",
    "print('Submissions amount {}'.format(first_exp_sub.shape[0]))"
   ]
  },
  {
   "cell_type": "markdown",
   "metadata": {},
   "source": [
    "# Metrics Paradigmas UTN"
   ]
  },
  {
   "cell_type": "code",
   "execution_count": 18,
   "metadata": {},
   "outputs": [
    {
     "name": "stdout",
     "output_type": "stream",
     "text": [
      "submissions_status\n",
      "errored                 0.232341\n",
      "failed                  0.345285\n",
      "passed                  0.382933\n",
      "passed_with_warnings    0.039441\n",
      "dtype: float64 5578\n",
      "Submissions amount 14841\n"
     ]
    }
   ],
   "source": [
    "print(metrics_exp, amount_exp)\n",
    "print('Submissions amount {}'.format(have_exp_sub.shape[0]))"
   ]
  }
 ],
 "metadata": {
  "kernelspec": {
   "display_name": "Python 3",
   "language": "python",
   "name": "python3"
  },
  "language_info": {
   "codemirror_mode": {
    "name": "ipython",
    "version": 3
   },
   "file_extension": ".py",
   "mimetype": "text/x-python",
   "name": "python",
   "nbconvert_exporter": "python",
   "pygments_lexer": "ipython3",
   "version": "3.6.5"
  }
 },
 "nbformat": 4,
 "nbformat_minor": 2
}
