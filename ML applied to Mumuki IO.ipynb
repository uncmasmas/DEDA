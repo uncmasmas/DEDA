{
 "cells": [
  {
   "cell_type": "code",
   "execution_count": null,
   "metadata": {
    "ExecuteTime": {
     "end_time": "2019-01-28T21:31:40.429438Z",
     "start_time": "2019-01-28T21:31:39.961899Z"
    }
   },
   "outputs": [],
   "source": [
    "import json\n",
    "import pandas as pd\n",
    "import Levenshtein as lv\n",
    "import numpy as np\n",
    "import os\n",
    "import pickle\n",
    "from sklearn.linear_model import LogisticRegression\n",
    "from sklearn.model_selection import train_test_split\n",
    "from sklearn.preprocessing import LabelEncoder, LabelBinarizer\n",
    "from sklearn_pandas import DataFrameMapper\n",
    "from sklearn.compose import ColumnTransformer, make_column_transformer\n",
    "from sklearn.base import BaseEstimator, TransformerMixin\n",
    "from sklearn.pipeline import Pipeline\n",
    "from sklearn.pipeline import FeatureUnion\n",
    "from sklearn.model_selection import cross_val_score\n",
    "from sklearn.metrics import classification_report"
   ]
  },
  {
   "cell_type": "code",
   "execution_count": null,
   "metadata": {
    "ExecuteTime": {
     "end_time": "2019-01-28T21:42:08.532869Z",
     "start_time": "2019-01-28T21:42:08.509186Z"
    }
   },
   "outputs": [],
   "source": [
    "def measure_time_distance(timedelta):\n",
    "    \"\"\"\n",
    "    Function that convert timedelta into seconds\n",
    "    \"\"\"\n",
    "    distance = (timedelta.total_seconds())\n",
    "    return distance\n",
    "\n",
    "def measure_text_distance(x,y):\n",
    "    \"\"\"\n",
    "    Function that calculate the Levenshtein distance\n",
    "    between two submissions code.\n",
    "    https://en.wikipedia.org/wiki/Levenshtein_distance\n",
    "    \"\"\"\n",
    "    return lv.distance(x,y)\n",
    "\n",
    "def calculate_distribution(df, column_name, exercise, mean=True):\n",
    "    \"\"\"\n",
    "    df: Dataframe with submissions\n",
    "    column_name: column with status\n",
    "\n",
    "    Function to obtain distribution of submissions status\n",
    "    return metrics and amount of submissions\n",
    "    \"\"\"\n",
    "    total_amount_submissions = df.shape[0]\n",
    "    submissions_grouped = df.groupby([column_name]).size()\n",
    "    metrics = {}\n",
    "    if mean:\n",
    "        metrics = submissions_grouped/total_amount_submissions\n",
    "    else:\n",
    "        metrics = submissions_grouped\n",
    "    metrics['exercise'] = str(exercise)\n",
    "    metrics['submission_amount'] = total_amount_submissions\n",
    "    return metrics\n",
    "\n",
    "def shift_columns(df, shift_social=False):\n",
    "    \"\"\"\n",
    "    Function that create 4 new columns\n",
    "    shifted column contains submissions_content shifted to calculate the distance\n",
    "    datetime_shifted contains datetime shifted to calculate the distance between times\n",
    "    \n",
    "    distance, Levenshtein distance between submissions\n",
    "    time_dist, time distance between submissions in seconds\n",
    "    \"\"\"\n",
    "    df.loc[:,'shifted'] = df['submissions_content'].shift().fillna(value='')\n",
    "    df.loc[:,'guide.name.previous'] = df['guide.name'].shift().fillna(value='')\n",
    "    df.loc[:,'datetime_shifted'] = df['datetime'].shift().fillna(value=pd.Timestamp(1800, 1, 1, 0))\n",
    "    df.loc[:,'student.email.previous'] = df['student.email'].shift().fillna(value='')\n",
    "    df['distance'] = df.apply(lambda x : measure_text_distance(x['submissions_content'],x['shifted']), axis=1)\n",
    "    df['time_dist'] = df.apply(lambda x : measure_time_distance(x['datetime']-x['datetime_shifted']), axis=1)\n",
    "    df.loc[:,'exercise.eid.previous'] = df['exercise.eid'].shift().fillna(value='')\n",
    "    df.loc[:,'exercise.name.previous'] = df['exercise.name'].shift().fillna(value='')\n",
    "    df.loc[:,'submissions_status.previous'] = df['submissions_status'].shift().fillna(value='')\n",
    "    df.loc[:,'submissions_count.previous'] = df['submissions_submissions_count'].shift().fillna(value='')\n",
    "    df['switch_exercise'] = df.apply(lambda x : x['exercise.name'] != x['exercise.name.previous'], axis=1)\n",
    "    if shift_social:\n",
    "        df['submitter.social_id.previous'] = df['submitter.social_id'].shift().fillna(value='')\n",
    "        \n",
    "    return df\n"
   ]
  },
  {
   "cell_type": "markdown",
   "metadata": {},
   "source": [
    "# Load dataset and replace null value in email by submitter.social_id"
   ]
  },
  {
   "cell_type": "code",
   "execution_count": null,
   "metadata": {
    "ExecuteTime": {
     "end_time": "2019-01-28T21:32:02.021259Z",
     "start_time": "2019-01-28T21:32:00.366258Z"
    }
   },
   "outputs": [],
   "source": [
    "base = 'dataframes_pkl/'\n",
    "df = pd.read_pickle(base + 'failed_submissions_df_FINAL.pkl')\n",
    "df.loc[df['student.email'].isnull() , 'student.email'] = df['submitter.social_id']"
   ]
  },
  {
   "cell_type": "code",
   "execution_count": null,
   "metadata": {
    "ExecuteTime": {
     "end_time": "2019-01-28T21:32:26.861768Z",
     "start_time": "2019-01-28T21:32:26.850349Z"
    }
   },
   "outputs": [],
   "source": [
    "submissions = df"
   ]
  },
  {
   "cell_type": "markdown",
   "metadata": {},
   "source": [
    "# calculate distribution"
   ]
  },
  {
   "cell_type": "code",
   "execution_count": null,
   "metadata": {
    "ExecuteTime": {
     "end_time": "2019-01-28T21:32:27.372427Z",
     "start_time": "2019-01-28T21:32:27.336911Z"
    }
   },
   "outputs": [],
   "source": [
    "calculate_distribution(submissions, \"submissions_status\", \"todos\", False)"
   ]
  },
  {
   "cell_type": "markdown",
   "metadata": {},
   "source": [
    "# Amount unique students"
   ]
  },
  {
   "cell_type": "code",
   "execution_count": null,
   "metadata": {
    "ExecuteTime": {
     "end_time": "2019-01-28T21:37:00.139798Z",
     "start_time": "2019-01-28T21:37:00.107075Z"
    }
   },
   "outputs": [],
   "source": [
    "submissions['student.email'].nunique()"
   ]
  },
  {
   "cell_type": "markdown",
   "metadata": {},
   "source": [
    "# Exercises attempted"
   ]
  },
  {
   "cell_type": "code",
   "execution_count": null,
   "metadata": {
    "ExecuteTime": {
     "end_time": "2019-01-28T21:44:27.076605Z",
     "start_time": "2019-01-28T21:43:42.006840Z"
    }
   },
   "outputs": [],
   "source": [
    "exercises_attempted = 0\n",
    "for student in submissions['student.email'].unique():\n",
    "    exercises_attempted += submissions[submissions['student.email'] == student]['exercise.name'].nunique()\n",
    "exercises_attempted"
   ]
  },
  {
   "cell_type": "markdown",
   "metadata": {},
   "source": [
    "# Shift columns"
   ]
  },
  {
   "cell_type": "code",
   "execution_count": null,
   "metadata": {
    "ExecuteTime": {
     "end_time": "2019-01-28T21:52:20.894514Z",
     "start_time": "2019-01-28T21:51:19.443277Z"
    }
   },
   "outputs": [],
   "source": [
    "submissions = submissions.sort_values(['student.email', 'datetime'])\n",
    "submissions = shift_columns(submissions, True)"
   ]
  },
  {
   "cell_type": "code",
   "execution_count": null,
   "metadata": {
    "ExecuteTime": {
     "end_time": "2019-01-28T21:53:51.181363Z",
     "start_time": "2019-01-28T21:53:51.166173Z"
    }
   },
   "outputs": [],
   "source": [
    "submissions.columns"
   ]
  },
  {
   "cell_type": "markdown",
   "metadata": {},
   "source": [
    "# Calculate Switching exercise Dropout"
   ]
  },
  {
   "cell_type": "code",
   "execution_count": null,
   "metadata": {
    "ExecuteTime": {
     "end_time": "2019-01-28T21:55:58.585661Z",
     "start_time": "2019-01-28T21:55:57.990517Z"
    }
   },
   "outputs": [],
   "source": [
    "submissions[(submissions['switch_exercise']) \n",
    "            & ((submissions['submissions_status.previous'] == 'failed') | (submissions['submissions_status.previous'] == 'errored'))\n",
    "           & (submissions['student.email'] == submissions['student.email.previous'])][\n",
    "    ['exercise.name.previous', 'submissions_status.previous', 'time_dist',\n",
    "     'switch_exercise', 'submissions_status', 'student.email.previous',\n",
    "     'student.email', 'exercise.name', 'datetime','datetime_shifted']].iloc[1:]"
   ]
  },
  {
   "cell_type": "markdown",
   "metadata": {},
   "source": [
    "# Calculate In session dropout"
   ]
  },
  {
   "cell_type": "code",
   "execution_count": null,
   "metadata": {
    "ExecuteTime": {
     "end_time": "2019-01-28T21:56:52.068447Z",
     "start_time": "2019-01-28T21:56:51.947753Z"
    }
   },
   "outputs": [],
   "source": [
    "threshold = 565\n",
    "submissions[(submissions['switch_exercise'] == False) \n",
    "            & ((submissions['submissions_status.previous'] == 'failed') | (submissions['submissions_status.previous'] == 'errored'))\n",
    "            & (submissions['time_dist'] > threshold)\n",
    "            & (submissions['student.email'] == submissions['student.email.previous'])\n",
    "          ][['exercise.name.previous', 'submissions_status.previous', 'time_dist',\n",
    "     'switch_exercise', 'submissions_status', 'student.email.previous',\n",
    "     'student.email', 'exercise.name', 'datetime']].iloc[1:]"
   ]
  },
  {
   "cell_type": "markdown",
   "metadata": {},
   "source": [
    "## Anoto el dataset\n",
    "En la columna dropout_switch se anota con True los abandonos por cambio de ejercicio\n",
    "En la columna dropout_session se anota con True los abandonos por session"
   ]
  },
  {
   "cell_type": "code",
   "execution_count": null,
   "metadata": {
    "ExecuteTime": {
     "end_time": "2019-01-28T21:57:56.258934Z",
     "start_time": "2019-01-28T21:57:33.927075Z"
    }
   },
   "outputs": [],
   "source": [
    "submissions['dropout_switch'] = submissions.apply(\n",
    "    lambda x: True if (\n",
    "        (x['switch_exercise']) &\n",
    "        ((x['submissions_status.previous'] == 'failed') | (x['submissions_status.previous'] == 'errored')) & \n",
    "        (x['student.email'] == x['student.email.previous'])\n",
    "    ) else False, axis=1)"
   ]
  },
  {
   "cell_type": "code",
   "execution_count": null,
   "metadata": {
    "ExecuteTime": {
     "end_time": "2019-01-28T21:58:19.522784Z",
     "start_time": "2019-01-28T21:57:56.261331Z"
    }
   },
   "outputs": [],
   "source": [
    "submissions['dropout_session'] = submissions.apply(\n",
    "    lambda x: True if(\n",
    "        (x['switch_exercise'] == False)\n",
    "        & ((x['submissions_status.previous'] == 'failed') | (x['submissions_status.previous'] == 'errored'))\n",
    "        & (x['time_dist'] > 565)\n",
    "        & (x['student.email'] == x['student.email.previous'])\n",
    "    ) else False, axis=1)"
   ]
  },
  {
   "cell_type": "markdown",
   "metadata": {
    "ExecuteTime": {
     "end_time": "2019-01-28T22:00:37.528008Z",
     "start_time": "2019-01-28T22:00:37.284644Z"
    }
   },
   "source": [
    "# Anoto el dataset de la segunda Forma"
   ]
  },
  {
   "cell_type": "code",
   "execution_count": null,
   "metadata": {
    "ExecuteTime": {
     "end_time": "2019-01-28T22:12:17.205902Z",
     "start_time": "2019-01-28T22:12:17.192247Z"
    }
   },
   "outputs": [],
   "source": [
    "df = submissions"
   ]
  },
  {
   "cell_type": "code",
   "execution_count": null,
   "metadata": {
    "ExecuteTime": {
     "end_time": "2019-01-28T22:20:43.032802Z",
     "start_time": "2019-01-28T22:12:17.692412Z"
    }
   },
   "outputs": [],
   "source": [
    "df['dropout_session_tray'] = False\n",
    "df['dropout_switch_tray'] = False\n",
    "df = df.sort_values(['datetime_shifted', 'student.email.previous'], ascending=False)\n",
    "\n",
    "for student in df['student.email.previous'].unique():\n",
    "    for exercise_name in df[(df['student.email.previous'] == student) & (df['dropout_switch'] | df['dropout_session'])]['exercise.name.previous'].unique():\n",
    "    #for exercise_name in df[(df['student.email.previous'] == student) & ((df['dropout_session']) | (df['dropout_switch']))]['exercise.name.previous'].unique()[:1]:\n",
    "        exer_df = df[(df['exercise.name.previous'] == exercise_name) & (df['student.email.previous'] == student)]\n",
    "        flag_session = False\n",
    "        flag_switch = False\n",
    "        for index, row in df[(df['exercise.name.previous'] == exercise_name) & (df['student.email.previous'] == student)].iterrows():\n",
    "            if (flag_session and not(row['dropout_switch'])):\n",
    "                #exer_df['dropout_session_tray'].iloc[index] = True\n",
    "                df.at[index, 'dropout_session_tray'] = True\n",
    "            if((row['dropout_session'] or flag_session) and not(row['dropout_switch'])):\n",
    "                flag_session = True\n",
    "                #exer_df['dropout_session_tray'].iloc[index] = True\n",
    "                df.at[index, 'dropout_session_tray'] = True\n",
    "            else:\n",
    "                flag_session = False\n",
    "\n",
    "            if (flag_switch and not(row['dropout_session'])):\n",
    "                #exer_df['dropout_switch_tray'].iloc[index] = True\n",
    "                df.at[index, 'dropout_switch_tray'] = True\n",
    "            if ((row['dropout_switch'] or flag_switch) and not(row['dropout_session'])):\n",
    "                flag_switch = True\n",
    "                #exer_df['dropout_switch_tray'].iloc[index] = True\n",
    "                df.at[index, 'dropout_switch_tray'] = True\n",
    "            else:\n",
    "                flag_switch = False"
   ]
  },
  {
   "cell_type": "code",
   "execution_count": null,
   "metadata": {
    "ExecuteTime": {
     "end_time": "2019-01-28T22:25:26.991128Z",
     "start_time": "2019-01-28T22:25:26.905803Z"
    }
   },
   "outputs": [],
   "source": [
    "cant_soluciones = df.shape[0]\n",
    "cant_switch = df[df['dropout_switch']].shape[0]\n",
    "cant_session = df[df['dropout_session']].shape[0]\n",
    "\n",
    "cant_switch_tray = df[df['dropout_switch_tray']].shape[0]\n",
    "cant_session_tray = df[df['dropout_session_tray']].shape[0]\n",
    "\n",
    "print(\"Cantidad submissions {}\".format(cant_soluciones))\n",
    "\n",
    "print(\"1era forma de anotar (solo la ultima submissions)\")\n",
    "print(\"Cantidad de dropout session {}. Proporcion respecto total submissions {:.3f}\".format(cant_session, cant_session/cant_soluciones))\n",
    "print(\"Cantidad de dropout switchs {}. Proporcion respecto total submissions {:.3f} \".format(cant_switch, cant_switch/cant_soluciones))\n",
    "print(\"Considerando ambos tipos como el mismo cantidad {}  proporcion {:.3f}\".format(cant_session + cant_switch,(cant_session + cant_switch)/cant_soluciones))\n",
    "\n",
    "print(\"\\n2da forma de anotar (anoto trayectoria)\")\n",
    "print('Cantidad de dropout session {}. Proporcion respecto total submissions {:.3f}'.format(cant_session_tray, cant_session_tray/cant_soluciones))\n",
    "print('Cantidad de dropout switch {}. Proporcion respecto total submissions {:.3f}'.format(cant_switch_tray, cant_switch_tray/cant_soluciones))\n",
    "print(\"Considerando ambos tipos como el mismo cantidad {}  proporcion {:.3f}\".format(cant_session_tray + cant_switch_tray,(cant_session_tray + cant_switch_tray)/cant_soluciones))"
   ]
  },
  {
   "cell_type": "code",
   "execution_count": null,
   "metadata": {
    "ExecuteTime": {
     "end_time": "2019-01-28T22:27:24.988641Z",
     "start_time": "2019-01-28T22:27:24.807232Z"
    }
   },
   "outputs": [],
   "source": [
    "submissions_df = df[['shifted', 'guide.name.previous', 'datetime_shifted', 'student.email.previous',\n",
    "    'distance', 'time_dist', 'exercise.eid.previous', 'exercise.name.previous',\n",
    "    'submissions_status.previous', 'submissions_count.previous', 'switch_exercise',\n",
    "    'dropout_switch', 'dropout_session', 'dropout_session_tray', 'dropout_switch_tray']]\n",
    "submissions_df = submissions_df.rename(columns={'shifted':'content', 'guide.name.previous':'guide.name', 'datetime_shifted':'datetime', 'student.email.previous': 'student.email',\n",
    "    'exercise.eid.previous' :'exercise.eid', 'exercise.name.previous': 'exercise.name',\n",
    "    'submissions_status.previous':'submissions_status', 'submissions_count.previous':'submissions_count'})"
   ]
  },
  {
   "cell_type": "code",
   "execution_count": null,
   "metadata": {
    "ExecuteTime": {
     "end_time": "2019-01-29T20:34:53.310654Z",
     "start_time": "2019-01-29T20:34:52.888009Z"
    }
   },
   "outputs": [],
   "source": [
    "submissions_df.to_pickle('mumuki_io_final_anotado.pkl')"
   ]
  },
  {
   "cell_type": "code",
   "execution_count": null,
   "metadata": {
    "ExecuteTime": {
     "end_time": "2019-01-29T20:34:48.983868Z",
     "start_time": "2019-01-29T20:34:48.910514Z"
    }
   },
   "outputs": [],
   "source": [
    "submissions_df = submissions_df[~(submissions_df['exercise.name'] == '')]"
   ]
  },
  {
   "cell_type": "markdown",
   "metadata": {},
   "source": [
    "## merge dropout columns "
   ]
  },
  {
   "cell_type": "code",
   "execution_count": null,
   "metadata": {},
   "outputs": [],
   "source": [
    "submissions_df['dropout'] = False\n",
    "submissions_df['dropout'] = submissions_df.apply(lambda x: True if (x['dropout_switch'] | x['dropout_session']) else False, axis=1)\n",
    "\n",
    "submissions_df['dropout_tray'] = False\n",
    "submissions_df['dropout_tray'] = submissions_df.apply(lambda x: True if (x['dropout_switch_tray'] | x['dropout_session_tray']) else False, axis=1)"
   ]
  },
  {
   "cell_type": "markdown",
   "metadata": {},
   "source": [
    "# BaseLine Linear Regression"
   ]
  },
  {
   "cell_type": "markdown",
   "metadata": {},
   "source": [
    "### Train dev test split"
   ]
  },
  {
   "cell_type": "code",
   "execution_count": null,
   "metadata": {
    "ExecuteTime": {
     "end_time": "2019-01-29T21:50:26.486261Z",
     "start_time": "2019-01-29T21:50:26.461729Z"
    }
   },
   "outputs": [],
   "source": [
    "base = 'datasets/mumuki-io/'\n",
    "def train_dev_test(df, proportion=[.8,.9]):\n",
    "    train_df = pd.DataFrame() \n",
    "    dev_df = pd.DataFrame() \n",
    "    test_df = pd.DataFrame() \n",
    "    exercises_names = df['exercise.name'].unique()\n",
    "    for exercise in exercises_names:\n",
    "        df_exer = df[df['exercise.name'] == exercise]\n",
    "        train, dev, test = np.split(df_exer.sample(frac=1), [int(.8*len(df_exer)), int(.9*len(df_exer))])\n",
    "        print(train.shape, dev.shape, test.shape, exercise)\n",
    "        train_df = train_df.append(train, ignore_index=True)\n",
    "        dev_df = dev_df.append(dev, ignore_index=True)\n",
    "        test_df = test_df.append(test, ignore_index=True)\n",
    "    return train_df, dev_df, test_df"
   ]
  },
  {
   "cell_type": "code",
   "execution_count": null,
   "metadata": {
    "ExecuteTime": {
     "end_time": "2019-01-29T21:50:46.639677Z",
     "start_time": "2019-01-29T21:50:26.918332Z"
    }
   },
   "outputs": [],
   "source": [
    "train, dev, test = train_dev_test(submissions_df)"
   ]
  },
  {
   "cell_type": "code",
   "execution_count": null,
   "metadata": {
    "ExecuteTime": {
     "end_time": "2019-01-29T21:51:08.171511Z",
     "start_time": "2019-01-29T21:51:07.644403Z"
    }
   },
   "outputs": [],
   "source": [
    "train.to_pickle(base+'train-io-801010.pkl')\n",
    "dev.to_pickle(base+'dev-io-801010.pkl')\n",
    "test.to_pickle(base+'test-io-801010.pkl')"
   ]
  },
  {
   "cell_type": "markdown",
   "metadata": {},
   "source": [
    "# load dataset from pickle files"
   ]
  },
  {
   "cell_type": "code",
   "execution_count": null,
   "metadata": {
    "ExecuteTime": {
     "end_time": "2019-01-29T21:51:14.528442Z",
     "start_time": "2019-01-29T21:51:14.308118Z"
    }
   },
   "outputs": [],
   "source": [
    "base = 'datasets/mumuki-io/'\n",
    "train_df = pd.read_pickle(base+'train-io-801010.pkl')\n",
    "dev_df = pd.read_pickle(base+'dev-io-801010.pkl')\n",
    "test_df = pd.read_pickle(base+'test-io-801010.pkl')"
   ]
  },
  {
   "cell_type": "code",
   "execution_count": null,
   "metadata": {
    "ExecuteTime": {
     "end_time": "2019-01-29T22:03:55.748691Z",
     "start_time": "2019-01-29T22:03:55.728373Z"
    }
   },
   "outputs": [],
   "source": [
    "features = ['submissions_count', 'exercise.eid']\n",
    "target = 'dropout_session_tray'\n",
    "X_train = train_df[features]\n",
    "Y_train = train_df[target]"
   ]
  },
  {
   "cell_type": "code",
   "execution_count": null,
   "metadata": {
    "ExecuteTime": {
     "end_time": "2019-01-29T22:03:56.174385Z",
     "start_time": "2019-01-29T22:03:56.170167Z"
    }
   },
   "outputs": [],
   "source": [
    "mapper = DataFrameMapper([\n",
    "     (['submissions_count'], None),\n",
    "     (['exercise.eid'], None)\n",
    " ])\n"
   ]
  },
  {
   "cell_type": "code",
   "execution_count": null,
   "metadata": {
    "ExecuteTime": {
     "end_time": "2019-01-29T22:03:56.553681Z",
     "start_time": "2019-01-29T22:03:56.520709Z"
    }
   },
   "outputs": [],
   "source": [
    "mapper.fit_transform(X_train)"
   ]
  },
  {
   "cell_type": "code",
   "execution_count": null,
   "metadata": {
    "ExecuteTime": {
     "end_time": "2019-01-29T22:03:56.813825Z",
     "start_time": "2019-01-29T22:03:56.802028Z"
    }
   },
   "outputs": [],
   "source": [
    "pipe2 = Pipeline([\n",
    "    ('mapper', mapper),\n",
    "    ('classifier', LogisticRegression(C=.5,penalty='l2', solver='saga',tol=1e-6,\n",
    "                         max_iter=int(1e6), warm_start=True, n_jobs=-1))\n",
    "])"
   ]
  },
  {
   "cell_type": "code",
   "execution_count": null,
   "metadata": {
    "ExecuteTime": {
     "end_time": "2019-01-29T22:04:44.898028Z",
     "start_time": "2019-01-29T22:03:57.148492Z"
    }
   },
   "outputs": [],
   "source": [
    "pipe2.fit(X_train, Y_train)"
   ]
  },
  {
   "cell_type": "markdown",
   "metadata": {},
   "source": [
    "## Test model in dev dataset"
   ]
  },
  {
   "cell_type": "code",
   "execution_count": null,
   "metadata": {
    "ExecuteTime": {
     "end_time": "2019-01-29T22:04:44.905298Z",
     "start_time": "2019-01-29T22:04:44.900745Z"
    }
   },
   "outputs": [],
   "source": [
    "X_dev = dev_df[features]\n",
    "Y_dev = dev_df[target]"
   ]
  },
  {
   "cell_type": "code",
   "execution_count": null,
   "metadata": {
    "ExecuteTime": {
     "end_time": "2019-01-29T22:04:44.964999Z",
     "start_time": "2019-01-29T22:04:44.907230Z"
    }
   },
   "outputs": [],
   "source": [
    "print(classification_report(pipe2.predict(X_dev), Y_dev))"
   ]
  },
  {
   "cell_type": "code",
   "execution_count": null,
   "metadata": {
    "ExecuteTime": {
     "end_time": "2019-01-29T22:16:17.544682Z",
     "start_time": "2019-01-29T22:16:17.505627Z"
    }
   },
   "outputs": [],
   "source": [
    "submissions_df[submissions_df['dropout_tray']].shape[0]/submissions_df.shape[0]"
   ]
  },
  {
   "cell_type": "code",
   "execution_count": null,
   "metadata": {
    "ExecuteTime": {
     "end_time": "2019-01-30T18:27:36.402999Z",
     "start_time": "2019-01-30T18:27:36.261960Z"
    }
   },
   "outputs": [],
   "source": [
    "submissions_df[submissions_df['dropout']]"
   ]
  },
  {
   "cell_type": "code",
   "execution_count": null,
   "metadata": {},
   "outputs": [],
   "source": []
  }
 ],
 "metadata": {
  "kernelspec": {
   "display_name": "Python 3",
   "language": "python",
   "name": "python3"
  },
  "language_info": {
   "codemirror_mode": {
    "name": "ipython",
    "version": 3
   },
   "file_extension": ".py",
   "mimetype": "text/x-python",
   "name": "python",
   "nbconvert_exporter": "python",
   "pygments_lexer": "ipython3",
   "version": "3.6.5"
  }
 },
 "nbformat": 4,
 "nbformat_minor": 2
}
